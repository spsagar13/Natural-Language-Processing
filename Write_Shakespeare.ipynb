{
  "nbformat": 4,
  "nbformat_minor": 0,
  "metadata": {
    "kernelspec": {
      "display_name": "Python 3",
      "language": "python",
      "name": "python3"
    },
    "language_info": {
      "codemirror_mode": {
        "name": "ipython",
        "version": 3
      },
      "file_extension": ".py",
      "mimetype": "text/x-python",
      "name": "python",
      "nbconvert_exporter": "python",
      "pygments_lexer": "ipython3",
      "version": "3.8.5"
    },
    "colab": {
      "name": "NLP write Shakespeare-Copy1.ipynb",
      "provenance": []
    },
    "accelerator": "GPU"
  },
  "cells": [
    {
      "cell_type": "code",
      "metadata": {
        "id": "MvTVq8xK5_U7"
      },
      "source": [
        "import tensorflow as tf\n",
        "import tensorflow.keras.utils as ku\n",
        "import numpy as np\n",
        "from tensorflow.keras.models import Sequential\n",
        "from tensorflow.keras.layers import Embedding, Dense, LSTM, Dropout, Bidirectional\n",
        "from tensorflow.keras.preprocessing.text import Tokenizer\n",
        "from tensorflow.keras.preprocessing.sequence import pad_sequences\n",
        "from tensorflow.keras import regularizers\n",
        "from tensorflow.keras.optimizers import Adam"
      ],
      "execution_count": 1,
      "outputs": []
    },
    {
      "cell_type": "code",
      "metadata": {
        "id": "-WcHCHII5_U-"
      },
      "source": [
        "tokenizer = Tokenizer()\n",
        "\n",
        "data = open('./sonnets.txt').read()\n",
        "corpus = data.lower().split(\"\\n\")\n",
        "\n",
        "tokenizer.fit_on_texts(corpus)\n",
        "total_words = len(tokenizer.word_index) + 1\n",
        "\n",
        "input_sequences = []\n",
        "\n",
        "for line in corpus:\n",
        "    token_list = tokenizer.texts_to_sequences([line])[0]\n",
        "    for i in range(1, len(token_list)):\n",
        "        n_gram_sequences = token_list[:i+1]\n",
        "        input_sequences.append(n_gram_sequences)\n",
        "        \n",
        "max_sequence_len = max([len(x) for x in input_sequences])\n",
        "input_sequences = np.array(pad_sequences(input_sequences, maxlen=max_sequence_len, padding='pre'))\n",
        "\n",
        "predictors, labels = input_sequences[:,:-1], input_sequences[:,-1]\n",
        "\n",
        "label = ku.to_categorical(labels, num_classes=total_words)"
      ],
      "execution_count": 2,
      "outputs": []
    },
    {
      "cell_type": "code",
      "metadata": {
        "colab": {
          "base_uri": "https://localhost:8080/"
        },
        "id": "eOwKP3sD5_U_",
        "outputId": "fc838898-c845-4069-aaa9-bf3125f28b95"
      },
      "source": [
        "model = Sequential()\n",
        "model.add(Embedding(total_words, 100, input_length=max_sequence_len-1))\n",
        "model.add(Bidirectional(LSTM(150, return_sequences=True)))\n",
        "model.add(Dropout(0.2))\n",
        "model.add(Bidirectional(LSTM(20)))\n",
        "model.add(Dense(total_words/2, activation='relu', kernel_regularizer=regularizers.l2(0.01)))\n",
        "model.add(Dense(total_words, activation='softmax'))\n",
        "\n",
        "adam = Adam(lr=0.01)\n",
        "model.compile(loss='categorical_crossentropy', optimizer=adam, metrics=['accuracy'])\n",
        "print(model.summary())"
      ],
      "execution_count": 3,
      "outputs": [
        {
          "output_type": "stream",
          "text": [
            "Model: \"sequential\"\n",
            "_________________________________________________________________\n",
            "Layer (type)                 Output Shape              Param #   \n",
            "=================================================================\n",
            "embedding (Embedding)        (None, 10, 100)           321100    \n",
            "_________________________________________________________________\n",
            "bidirectional (Bidirectional (None, 10, 300)           301200    \n",
            "_________________________________________________________________\n",
            "dropout (Dropout)            (None, 10, 300)           0         \n",
            "_________________________________________________________________\n",
            "bidirectional_1 (Bidirection (None, 40)                51360     \n",
            "_________________________________________________________________\n",
            "dense (Dense)                (None, 1605)              65805     \n",
            "_________________________________________________________________\n",
            "dense_1 (Dense)              (None, 3211)              5156866   \n",
            "=================================================================\n",
            "Total params: 5,896,331\n",
            "Trainable params: 5,896,331\n",
            "Non-trainable params: 0\n",
            "_________________________________________________________________\n",
            "None\n"
          ],
          "name": "stdout"
        }
      ]
    },
    {
      "cell_type": "code",
      "metadata": {
        "scrolled": false,
        "colab": {
          "base_uri": "https://localhost:8080/"
        },
        "id": "zgyTVbWS5_VA",
        "outputId": "59eff3d6-7b9c-47b4-d04e-cfd67afd32db"
      },
      "source": [
        "history = model.fit(predictors, label, epochs=100, verbose=1)"
      ],
      "execution_count": 4,
      "outputs": [
        {
          "output_type": "stream",
          "text": [
            "Epoch 1/100\n",
            "484/484 [==============================] - 42s 14ms/step - loss: 7.0142 - accuracy: 0.0193\n",
            "Epoch 2/100\n",
            "484/484 [==============================] - 6s 13ms/step - loss: 6.4715 - accuracy: 0.0242\n",
            "Epoch 3/100\n",
            "484/484 [==============================] - 7s 14ms/step - loss: 6.4064 - accuracy: 0.0296\n",
            "Epoch 4/100\n",
            "484/484 [==============================] - 6s 13ms/step - loss: 6.3324 - accuracy: 0.0288\n",
            "Epoch 5/100\n",
            "484/484 [==============================] - 6s 13ms/step - loss: 6.2600 - accuracy: 0.0320\n",
            "Epoch 6/100\n",
            "484/484 [==============================] - 7s 14ms/step - loss: 6.2560 - accuracy: 0.0317\n",
            "Epoch 7/100\n",
            "484/484 [==============================] - 7s 14ms/step - loss: 6.2582 - accuracy: 0.0300\n",
            "Epoch 8/100\n",
            "484/484 [==============================] - 6s 13ms/step - loss: 6.1683 - accuracy: 0.0356\n",
            "Epoch 9/100\n",
            "484/484 [==============================] - 7s 13ms/step - loss: 6.1440 - accuracy: 0.0372\n",
            "Epoch 10/100\n",
            "484/484 [==============================] - 7s 14ms/step - loss: 6.1226 - accuracy: 0.0392\n",
            "Epoch 11/100\n",
            "484/484 [==============================] - 7s 13ms/step - loss: 6.0807 - accuracy: 0.0410\n",
            "Epoch 12/100\n",
            "484/484 [==============================] - 7s 13ms/step - loss: 6.0683 - accuracy: 0.0425\n",
            "Epoch 13/100\n",
            "484/484 [==============================] - 7s 14ms/step - loss: 6.0451 - accuracy: 0.0450\n",
            "Epoch 14/100\n",
            "484/484 [==============================] - 7s 14ms/step - loss: 6.0236 - accuracy: 0.0424\n",
            "Epoch 15/100\n",
            "484/484 [==============================] - 6s 13ms/step - loss: 6.0113 - accuracy: 0.0462\n",
            "Epoch 16/100\n",
            "484/484 [==============================] - 7s 14ms/step - loss: 6.0042 - accuracy: 0.0467\n",
            "Epoch 17/100\n",
            "484/484 [==============================] - 6s 13ms/step - loss: 5.9393 - accuracy: 0.0501\n",
            "Epoch 18/100\n",
            "484/484 [==============================] - 6s 13ms/step - loss: 5.9413 - accuracy: 0.0493\n",
            "Epoch 19/100\n",
            "484/484 [==============================] - 7s 14ms/step - loss: 5.8708 - accuracy: 0.0532\n",
            "Epoch 20/100\n",
            "484/484 [==============================] - 7s 13ms/step - loss: 5.8914 - accuracy: 0.0548\n",
            "Epoch 21/100\n",
            "484/484 [==============================] - 7s 14ms/step - loss: 5.8735 - accuracy: 0.0483\n",
            "Epoch 22/100\n",
            "484/484 [==============================] - 7s 14ms/step - loss: 5.8386 - accuracy: 0.0513\n",
            "Epoch 23/100\n",
            "484/484 [==============================] - 7s 14ms/step - loss: 5.8058 - accuracy: 0.0534\n",
            "Epoch 24/100\n",
            "484/484 [==============================] - 6s 13ms/step - loss: 5.8262 - accuracy: 0.0543\n",
            "Epoch 25/100\n",
            "484/484 [==============================] - 7s 14ms/step - loss: 5.7934 - accuracy: 0.0521\n",
            "Epoch 26/100\n",
            "484/484 [==============================] - 6s 13ms/step - loss: 5.7974 - accuracy: 0.0533\n",
            "Epoch 27/100\n",
            "484/484 [==============================] - 6s 13ms/step - loss: 5.7874 - accuracy: 0.0583\n",
            "Epoch 28/100\n",
            "484/484 [==============================] - 6s 13ms/step - loss: 5.7326 - accuracy: 0.0553\n",
            "Epoch 29/100\n",
            "484/484 [==============================] - 7s 14ms/step - loss: 5.7610 - accuracy: 0.0530\n",
            "Epoch 30/100\n",
            "484/484 [==============================] - 7s 14ms/step - loss: 5.7054 - accuracy: 0.0561\n",
            "Epoch 31/100\n",
            "484/484 [==============================] - 7s 13ms/step - loss: 5.7394 - accuracy: 0.0540\n",
            "Epoch 32/100\n",
            "484/484 [==============================] - 7s 14ms/step - loss: 5.7119 - accuracy: 0.0594\n",
            "Epoch 33/100\n",
            "484/484 [==============================] - 7s 14ms/step - loss: 5.7120 - accuracy: 0.0570\n",
            "Epoch 34/100\n",
            "484/484 [==============================] - 6s 13ms/step - loss: 5.6826 - accuracy: 0.0580\n",
            "Epoch 35/100\n",
            "484/484 [==============================] - 6s 13ms/step - loss: 5.6815 - accuracy: 0.0565\n",
            "Epoch 36/100\n",
            "484/484 [==============================] - 6s 13ms/step - loss: 5.6953 - accuracy: 0.0573\n",
            "Epoch 37/100\n",
            "484/484 [==============================] - 6s 13ms/step - loss: 5.7190 - accuracy: 0.0573\n",
            "Epoch 38/100\n",
            "484/484 [==============================] - 7s 14ms/step - loss: 5.7253 - accuracy: 0.0546\n",
            "Epoch 39/100\n",
            "484/484 [==============================] - 7s 14ms/step - loss: 5.6867 - accuracy: 0.0565\n",
            "Epoch 40/100\n",
            "484/484 [==============================] - 7s 14ms/step - loss: 5.6643 - accuracy: 0.0586\n",
            "Epoch 41/100\n",
            "484/484 [==============================] - 6s 13ms/step - loss: 5.6748 - accuracy: 0.0578\n",
            "Epoch 42/100\n",
            "484/484 [==============================] - 6s 13ms/step - loss: 5.6437 - accuracy: 0.0561\n",
            "Epoch 43/100\n",
            "484/484 [==============================] - 6s 13ms/step - loss: 5.6583 - accuracy: 0.0564\n",
            "Epoch 44/100\n",
            "484/484 [==============================] - 6s 13ms/step - loss: 5.6745 - accuracy: 0.0594\n",
            "Epoch 45/100\n",
            "484/484 [==============================] - 6s 13ms/step - loss: 5.6730 - accuracy: 0.0555\n",
            "Epoch 46/100\n",
            "484/484 [==============================] - 6s 13ms/step - loss: 5.6760 - accuracy: 0.0586\n",
            "Epoch 47/100\n",
            "484/484 [==============================] - 7s 14ms/step - loss: 5.6630 - accuracy: 0.0567\n",
            "Epoch 48/100\n",
            "484/484 [==============================] - 6s 13ms/step - loss: 5.6786 - accuracy: 0.0578\n",
            "Epoch 49/100\n",
            "484/484 [==============================] - 7s 14ms/step - loss: 5.6570 - accuracy: 0.0593\n",
            "Epoch 50/100\n",
            "484/484 [==============================] - 7s 14ms/step - loss: 5.6301 - accuracy: 0.0586\n",
            "Epoch 51/100\n",
            "484/484 [==============================] - 6s 13ms/step - loss: 5.6502 - accuracy: 0.0561\n",
            "Epoch 52/100\n",
            "484/484 [==============================] - 6s 13ms/step - loss: 5.6288 - accuracy: 0.0584\n",
            "Epoch 53/100\n",
            "484/484 [==============================] - 6s 13ms/step - loss: 5.6270 - accuracy: 0.0565\n",
            "Epoch 54/100\n",
            "484/484 [==============================] - 6s 13ms/step - loss: 5.6313 - accuracy: 0.0582\n",
            "Epoch 55/100\n",
            "484/484 [==============================] - 7s 13ms/step - loss: 5.6161 - accuracy: 0.0574\n",
            "Epoch 56/100\n",
            "484/484 [==============================] - 6s 13ms/step - loss: 5.6233 - accuracy: 0.0575\n",
            "Epoch 57/100\n",
            "484/484 [==============================] - 7s 14ms/step - loss: 5.5969 - accuracy: 0.0631\n",
            "Epoch 58/100\n",
            "484/484 [==============================] - 7s 14ms/step - loss: 5.6268 - accuracy: 0.0586\n",
            "Epoch 59/100\n",
            "484/484 [==============================] - 7s 14ms/step - loss: 5.6257 - accuracy: 0.0597\n",
            "Epoch 60/100\n",
            "484/484 [==============================] - 6s 13ms/step - loss: 5.6316 - accuracy: 0.0565\n",
            "Epoch 61/100\n",
            "484/484 [==============================] - 7s 14ms/step - loss: 5.6180 - accuracy: 0.0584\n",
            "Epoch 62/100\n",
            "484/484 [==============================] - 7s 14ms/step - loss: 5.6251 - accuracy: 0.0581\n",
            "Epoch 63/100\n",
            "484/484 [==============================] - 7s 14ms/step - loss: 5.5971 - accuracy: 0.0638\n",
            "Epoch 64/100\n",
            "484/484 [==============================] - 7s 14ms/step - loss: 5.5947 - accuracy: 0.0556\n",
            "Epoch 65/100\n",
            "484/484 [==============================] - 7s 14ms/step - loss: 5.6121 - accuracy: 0.0650\n",
            "Epoch 66/100\n",
            "484/484 [==============================] - 7s 14ms/step - loss: 5.5840 - accuracy: 0.0610\n",
            "Epoch 67/100\n",
            "484/484 [==============================] - 7s 14ms/step - loss: 5.5863 - accuracy: 0.0640\n",
            "Epoch 68/100\n",
            "484/484 [==============================] - 7s 14ms/step - loss: 5.6018 - accuracy: 0.0616\n",
            "Epoch 69/100\n",
            "484/484 [==============================] - 7s 14ms/step - loss: 5.5828 - accuracy: 0.0603\n",
            "Epoch 70/100\n",
            "484/484 [==============================] - 7s 13ms/step - loss: 5.5742 - accuracy: 0.0593\n",
            "Epoch 71/100\n",
            "484/484 [==============================] - 6s 13ms/step - loss: 5.5838 - accuracy: 0.0596\n",
            "Epoch 72/100\n",
            "484/484 [==============================] - 6s 13ms/step - loss: 5.5658 - accuracy: 0.0640\n",
            "Epoch 73/100\n",
            "484/484 [==============================] - 6s 13ms/step - loss: 5.5867 - accuracy: 0.0605\n",
            "Epoch 74/100\n",
            "484/484 [==============================] - 7s 14ms/step - loss: 5.5543 - accuracy: 0.0649\n",
            "Epoch 75/100\n",
            "484/484 [==============================] - 7s 14ms/step - loss: 5.5723 - accuracy: 0.0605\n",
            "Epoch 76/100\n",
            "484/484 [==============================] - 7s 13ms/step - loss: 5.5737 - accuracy: 0.0630\n",
            "Epoch 77/100\n",
            "484/484 [==============================] - 6s 13ms/step - loss: 5.6019 - accuracy: 0.0589\n",
            "Epoch 78/100\n",
            "484/484 [==============================] - 6s 13ms/step - loss: 5.5583 - accuracy: 0.0633\n",
            "Epoch 79/100\n",
            "484/484 [==============================] - 7s 14ms/step - loss: 5.5480 - accuracy: 0.0630\n",
            "Epoch 80/100\n",
            "484/484 [==============================] - 7s 14ms/step - loss: 5.5867 - accuracy: 0.0630\n",
            "Epoch 81/100\n",
            "484/484 [==============================] - 7s 13ms/step - loss: 5.5265 - accuracy: 0.0661\n",
            "Epoch 82/100\n",
            "484/484 [==============================] - 7s 14ms/step - loss: 5.5287 - accuracy: 0.0612\n",
            "Epoch 83/100\n",
            "484/484 [==============================] - 6s 13ms/step - loss: 5.5813 - accuracy: 0.0610\n",
            "Epoch 84/100\n",
            "484/484 [==============================] - 6s 13ms/step - loss: 5.5394 - accuracy: 0.0600\n",
            "Epoch 85/100\n",
            "484/484 [==============================] - 7s 14ms/step - loss: 5.5717 - accuracy: 0.0661\n",
            "Epoch 86/100\n",
            "484/484 [==============================] - 7s 14ms/step - loss: 5.5216 - accuracy: 0.0657\n",
            "Epoch 87/100\n",
            "484/484 [==============================] - 7s 14ms/step - loss: 5.5816 - accuracy: 0.0618\n",
            "Epoch 88/100\n",
            "484/484 [==============================] - 7s 14ms/step - loss: 5.5626 - accuracy: 0.0601\n",
            "Epoch 89/100\n",
            "484/484 [==============================] - 7s 14ms/step - loss: 5.5892 - accuracy: 0.0599\n",
            "Epoch 90/100\n",
            "484/484 [==============================] - 7s 13ms/step - loss: 5.5573 - accuracy: 0.0665\n",
            "Epoch 91/100\n",
            "484/484 [==============================] - 6s 13ms/step - loss: 5.5546 - accuracy: 0.0601\n",
            "Epoch 92/100\n",
            "484/484 [==============================] - 6s 13ms/step - loss: 5.5395 - accuracy: 0.0582\n",
            "Epoch 93/100\n",
            "484/484 [==============================] - 6s 13ms/step - loss: 5.5491 - accuracy: 0.0624\n",
            "Epoch 94/100\n",
            "484/484 [==============================] - 7s 14ms/step - loss: 5.5537 - accuracy: 0.0580\n",
            "Epoch 95/100\n",
            "484/484 [==============================] - 7s 14ms/step - loss: 5.4979 - accuracy: 0.0654\n",
            "Epoch 96/100\n",
            "484/484 [==============================] - 6s 13ms/step - loss: 5.5511 - accuracy: 0.0609\n",
            "Epoch 97/100\n",
            "484/484 [==============================] - 6s 13ms/step - loss: 5.5369 - accuracy: 0.0647\n",
            "Epoch 98/100\n",
            "484/484 [==============================] - 7s 14ms/step - loss: 5.5039 - accuracy: 0.0652\n",
            "Epoch 99/100\n",
            "484/484 [==============================] - 7s 14ms/step - loss: 5.5191 - accuracy: 0.0620\n",
            "Epoch 100/100\n",
            "484/484 [==============================] - 7s 14ms/step - loss: 5.5310 - accuracy: 0.0628\n"
          ],
          "name": "stdout"
        }
      ]
    },
    {
      "cell_type": "code",
      "metadata": {
        "scrolled": true,
        "colab": {
          "base_uri": "https://localhost:8080/",
          "height": 541
        },
        "id": "YGVTgOk05_VB",
        "outputId": "f499a47c-3b52-4ef4-ee2a-f02d11f0c647"
      },
      "source": [
        "import matplotlib.pyplot as plt\n",
        "\n",
        "def plot_graph(history, string):\n",
        "    plt.plot(history.history[string])\n",
        "    plt.xlabel(\"Epochs\")\n",
        "    plt.ylabel(string)\n",
        "    plt.show()\n",
        "    \n",
        "plot_graph(history,'accuracy')\n",
        "plot_graph(history,'loss')"
      ],
      "execution_count": 5,
      "outputs": [
        {
          "output_type": "display_data",
          "data": {
            "image/png": "[encoded data removed]",
            "text/plain": [
              "<Figure size 432x288 with 1 Axes>"
            ]
          },
          "metadata": {
            "tags": [],
            "needs_background": "light"
          }
        },
        {
          "output_type": "display_data",
          "data": {
            "image/png": "[encoded data removed]",
            "text/plain": [
              "<Figure size 432x288 with 1 Axes>"
            ]
          },
          "metadata": {
            "tags": [],
            "needs_background": "light"
          }
        }
      ]
    },
    {
      "cell_type": "code",
      "metadata": {
        "colab": {
          "base_uri": "https://localhost:8080/"
        },
        "id": "0jp7YCBl5_VB",
        "outputId": "46514d27-fbb3-43e3-a1a5-89c568833cf2"
      },
      "source": [
        "seed_text = \"Help me Obi Wan Kenobi, you're my only hope\"\n",
        "next_words = 100\n",
        "\n",
        "for _ in range(next_words):\n",
        "    token_list = tokenizer.texts_to_sequences([seed_text])[0]\n",
        "    token_list = pad_sequences([token_list], maxlen=max_sequence_len-1, padding='pre')\n",
        "    predicted = model.predict_classes(token_list, verbose=0)\n",
        "    output_word = \"\"\n",
        "    for word, index in tokenizer.word_index.items():\n",
        "        if index == predicted:\n",
        "            output_word = word\n",
        "            break\n",
        "    seed_text += \" \" + output_word\n",
        "    \n",
        "print()\n",
        "print(seed_text)"
      ],
      "execution_count": 7,
      "outputs": [
        {
          "output_type": "stream",
          "text": [
            "/usr/local/lib/python3.7/dist-packages/tensorflow/python/keras/engine/sequential.py:450: UserWarning: `model.predict_classes()` is deprecated and will be removed after 2021-01-01. Please use instead:* `np.argmax(model.predict(x), axis=-1)`,   if your model does multi-class classification   (e.g. if it uses a `softmax` last-layer activation).* `(model.predict(x) > 0.5).astype(\"int32\")`,   if your model does binary classification   (e.g. if it uses a `sigmoid` last-layer activation).\n",
            "  warnings.warn('`model.predict_classes()` is deprecated and '\n"
          ],
          "name": "stderr"
        },
        {
          "output_type": "stream",
          "text": [
            "\n",
            "Help me Obi Wan Kenobi, you're my only hope and in the world to be and thou love to thee to thee to thee ' ' ' in the love of thee to the love of my love to be and ' ' ' ' ' in the ' ' ' and in the world to be and thou love to thee to thee to thee ' ' ' in the love of thee to the love of my love to be and ' ' ' ' ' in the ' ' ' and in the world to be and thou love to thee to thee to thee '\n"
          ],
          "name": "stdout"
        }
      ]
    }
  ]
}
