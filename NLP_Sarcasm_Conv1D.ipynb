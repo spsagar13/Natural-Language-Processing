{
  "nbformat": 4,
  "nbformat_minor": 0,
  "metadata": {
    "accelerator": "GPU",
    "colab": {
      "name": "NLP_Sarcasm_Conv1D.ipynb",
      "provenance": [],
      "collapsed_sections": [],
      "include_colab_link": true
    },
    "kernelspec": {
      "display_name": "Python 3",
      "language": "python",
      "name": "python3"
    },
    "language_info": {
      "codemirror_mode": {
        "name": "ipython",
        "version": 3
      },
      "file_extension": ".py",
      "mimetype": "text/x-python",
      "name": "python",
      "nbconvert_exporter": "python",
      "pygments_lexer": "ipython3",
      "version": "3.7.6"
    }
  },
  "cells": [
    {
      "cell_type": "markdown",
      "metadata": {
        "id": "view-in-github",
        "colab_type": "text"
      },
      "source": [
        "<a href=\"https://colab.research.google.com/github/spsagar13/Natural-Language-Processing/blob/main/NLP_Sarcasm_Conv1D.ipynb\" target=\"_parent\"><img src=\"https://colab.research.google.com/assets/colab-badge.svg\" alt=\"Open In Colab\"/></a>"
      ]
    },
    {
      "cell_type": "code",
      "metadata": {
        "id": "jGwXGIXvFhXW",
        "colab": {
          "base_uri": "https://localhost:8080/"
        },
        "outputId": "311f7a4c-5ec8-42f9-9ea0-ee84a632cebc"
      },
      "source": [
        "import numpy as np\n",
        "\n",
        "import json\n",
        "import tensorflow as tf\n",
        "\n",
        "from tensorflow.keras.preprocessing.text import Tokenizer\n",
        "from tensorflow.keras.preprocessing.sequence import pad_sequences\n",
        "\n",
        "!wget --no-check-certificate \\\n",
        "    https://storage.googleapis.com/laurencemoroney-blog.appspot.com/sarcasm.json \\\n",
        "    -O /tmp/sarcasm.json\n",
        "\n",
        "vocab_size = 1000\n",
        "embedding_dim = 16\n",
        "max_length = 120\n",
        "trunc_type='post'\n",
        "padding_type='post'\n",
        "oov_tok = \"<OOV>\"\n",
        "training_size = 20000\n",
        "\n",
        "\n",
        "with open(\"/tmp/sarcasm.json\", 'r') as f:\n",
        "    datastore = json.load(f)\n",
        "\n",
        "\n",
        "sentences = []\n",
        "labels = []\n",
        "urls = []\n",
        "for item in datastore:\n",
        "    sentences.append(item['headline'])\n",
        "    labels.append(item['is_sarcastic'])\n",
        "\n",
        "training_sentences = sentences[0:training_size]\n",
        "testing_sentences = sentences[training_size:]\n",
        "training_labels = labels[0:training_size]\n",
        "testing_labels = labels[training_size:]\n",
        "\n",
        "tokenizer = Tokenizer(num_words=vocab_size, oov_token=oov_tok)\n",
        "tokenizer.fit_on_texts(training_sentences)\n",
        "\n",
        "word_index = tokenizer.word_index\n",
        "\n",
        "training_sequences = tokenizer.texts_to_sequences(training_sentences)\n",
        "training_padded = pad_sequences(training_sequences, maxlen=max_length, padding=padding_type, truncating=trunc_type)\n",
        "\n",
        "testing_sequences = tokenizer.texts_to_sequences(testing_sentences)\n",
        "testing_padded = pad_sequences(testing_sequences, maxlen=max_length, padding=padding_type, truncating=trunc_type)\n",
        "\n",
        "model = tf.keras.Sequential([\n",
        "    tf.keras.layers.Embedding(vocab_size, embedding_dim, input_length=max_length),\n",
        "    tf.keras.layers.Conv1D(128, 5, activation='relu'),\n",
        "    tf.keras.layers.GlobalMaxPooling1D(),\n",
        "    tf.keras.layers.Dense(24, activation='relu'),\n",
        "    tf.keras.layers.Dense(1, activation='sigmoid')\n",
        "])\n",
        "model.compile(loss='binary_crossentropy',optimizer='adam',metrics=['accuracy'])\n",
        "model.summary()\n",
        "\n",
        "num_epochs = 50\n",
        "\n",
        "training_padded = np.array(training_padded)\n",
        "training_labels = np.array(training_labels)\n",
        "testing_padded = np.array(testing_padded)\n",
        "testing_labels = np.array(testing_labels)\n",
        "\n",
        "history = model.fit(training_padded, training_labels, epochs=num_epochs, validation_data=(testing_padded, testing_labels), verbose=1)\n"
      ],
      "execution_count": 1,
      "outputs": [
        {
          "output_type": "stream",
          "text": [
            "--2021-04-08 01:06:55--  https://storage.googleapis.com/laurencemoroney-blog.appspot.com/sarcasm.json\n",
            "Resolving storage.googleapis.com (storage.googleapis.com)... 74.125.20.128, 74.125.142.128, 74.125.195.128, ...\n",
            "Connecting to storage.googleapis.com (storage.googleapis.com)|74.125.20.128|:443... connected.\n",
            "HTTP request sent, awaiting response... 200 OK\n",
            "Length: 5643545 (5.4M) [application/json]\n",
            "Saving to: ‘/tmp/sarcasm.json’\n",
            "\n",
            "\r/tmp/sarcasm.json     0%[                    ]       0  --.-KB/s               \r/tmp/sarcasm.json   100%[===================>]   5.38M  --.-KB/s    in 0.03s   \n",
            "\n",
            "2021-04-08 01:06:55 (169 MB/s) - ‘/tmp/sarcasm.json’ saved [5643545/5643545]\n",
            "\n",
            "Model: \"sequential\"\n",
            "_________________________________________________________________\n",
            "Layer (type)                 Output Shape              Param #   \n",
            "=================================================================\n",
            "embedding (Embedding)        (None, 120, 16)           16000     \n",
            "_________________________________________________________________\n",
            "conv1d (Conv1D)              (None, 116, 128)          10368     \n",
            "_________________________________________________________________\n",
            "global_max_pooling1d (Global (None, 128)               0         \n",
            "_________________________________________________________________\n",
            "dense (Dense)                (None, 24)                3096      \n",
            "_________________________________________________________________\n",
            "dense_1 (Dense)              (None, 1)                 25        \n",
            "=================================================================\n",
            "Total params: 29,489\n",
            "Trainable params: 29,489\n",
            "Non-trainable params: 0\n",
            "_________________________________________________________________\n",
            "Epoch 1/50\n",
            "625/625 [==============================] - 36s 5ms/step - loss: 0.5523 - accuracy: 0.6894 - val_loss: 0.4125 - val_accuracy: 0.8071\n",
            "Epoch 2/50\n",
            "625/625 [==============================] - 3s 4ms/step - loss: 0.3538 - accuracy: 0.8426 - val_loss: 0.3982 - val_accuracy: 0.8185\n",
            "Epoch 3/50\n",
            "625/625 [==============================] - 3s 4ms/step - loss: 0.3056 - accuracy: 0.8655 - val_loss: 0.3975 - val_accuracy: 0.8210\n",
            "Epoch 4/50\n",
            "625/625 [==============================] - 3s 4ms/step - loss: 0.2701 - accuracy: 0.8847 - val_loss: 0.4136 - val_accuracy: 0.8220\n",
            "Epoch 5/50\n",
            "625/625 [==============================] - 3s 4ms/step - loss: 0.2326 - accuracy: 0.9059 - val_loss: 0.4467 - val_accuracy: 0.8065\n",
            "Epoch 6/50\n",
            "625/625 [==============================] - 3s 4ms/step - loss: 0.1992 - accuracy: 0.9189 - val_loss: 0.4644 - val_accuracy: 0.8077\n",
            "Epoch 7/50\n",
            "625/625 [==============================] - 3s 4ms/step - loss: 0.1628 - accuracy: 0.9394 - val_loss: 0.5118 - val_accuracy: 0.8067\n",
            "Epoch 8/50\n",
            "625/625 [==============================] - 3s 4ms/step - loss: 0.1383 - accuracy: 0.9492 - val_loss: 0.6085 - val_accuracy: 0.8025\n",
            "Epoch 9/50\n",
            "625/625 [==============================] - 3s 4ms/step - loss: 0.1122 - accuracy: 0.9609 - val_loss: 0.6421 - val_accuracy: 0.8043\n",
            "Epoch 10/50\n",
            "625/625 [==============================] - 3s 4ms/step - loss: 0.0914 - accuracy: 0.9688 - val_loss: 0.7347 - val_accuracy: 0.8025\n",
            "Epoch 11/50\n",
            "625/625 [==============================] - 3s 4ms/step - loss: 0.0714 - accuracy: 0.9759 - val_loss: 0.7942 - val_accuracy: 0.8000\n",
            "Epoch 12/50\n",
            "625/625 [==============================] - 3s 4ms/step - loss: 0.0618 - accuracy: 0.9785 - val_loss: 0.8931 - val_accuracy: 0.7946\n",
            "Epoch 13/50\n",
            "625/625 [==============================] - 3s 4ms/step - loss: 0.0560 - accuracy: 0.9804 - val_loss: 1.0157 - val_accuracy: 0.7933\n",
            "Epoch 14/50\n",
            "625/625 [==============================] - 3s 4ms/step - loss: 0.0518 - accuracy: 0.9828 - val_loss: 1.0972 - val_accuracy: 0.7879\n",
            "Epoch 15/50\n",
            "625/625 [==============================] - 3s 4ms/step - loss: 0.0396 - accuracy: 0.9865 - val_loss: 1.0877 - val_accuracy: 0.7983\n",
            "Epoch 16/50\n",
            "625/625 [==============================] - 3s 4ms/step - loss: 0.0347 - accuracy: 0.9883 - val_loss: 1.2193 - val_accuracy: 0.7936\n",
            "Epoch 17/50\n",
            "625/625 [==============================] - 3s 4ms/step - loss: 0.0326 - accuracy: 0.9876 - val_loss: 1.2312 - val_accuracy: 0.7894\n",
            "Epoch 18/50\n",
            "625/625 [==============================] - 3s 4ms/step - loss: 0.0373 - accuracy: 0.9847 - val_loss: 1.2979 - val_accuracy: 0.7879\n",
            "Epoch 19/50\n",
            "625/625 [==============================] - 3s 4ms/step - loss: 0.0327 - accuracy: 0.9871 - val_loss: 1.3626 - val_accuracy: 0.7882\n",
            "Epoch 20/50\n",
            "625/625 [==============================] - 3s 4ms/step - loss: 0.0323 - accuracy: 0.9872 - val_loss: 1.3924 - val_accuracy: 0.7930\n",
            "Epoch 21/50\n",
            "625/625 [==============================] - 3s 4ms/step - loss: 0.0297 - accuracy: 0.9884 - val_loss: 1.4686 - val_accuracy: 0.7869\n",
            "Epoch 22/50\n",
            "625/625 [==============================] - 3s 4ms/step - loss: 0.0238 - accuracy: 0.9904 - val_loss: 1.5538 - val_accuracy: 0.7880\n",
            "Epoch 23/50\n",
            "625/625 [==============================] - 3s 4ms/step - loss: 0.0253 - accuracy: 0.9904 - val_loss: 1.5977 - val_accuracy: 0.7828\n",
            "Epoch 24/50\n",
            "625/625 [==============================] - 3s 4ms/step - loss: 0.0250 - accuracy: 0.9892 - val_loss: 1.6330 - val_accuracy: 0.7869\n",
            "Epoch 25/50\n",
            "625/625 [==============================] - 3s 4ms/step - loss: 0.0287 - accuracy: 0.9878 - val_loss: 1.6707 - val_accuracy: 0.7851\n",
            "Epoch 26/50\n",
            "625/625 [==============================] - 3s 4ms/step - loss: 0.0232 - accuracy: 0.9904 - val_loss: 1.7679 - val_accuracy: 0.7861\n",
            "Epoch 27/50\n",
            "625/625 [==============================] - 3s 4ms/step - loss: 0.0267 - accuracy: 0.9892 - val_loss: 1.9317 - val_accuracy: 0.7816\n",
            "Epoch 28/50\n",
            "625/625 [==============================] - 3s 4ms/step - loss: 0.0302 - accuracy: 0.9885 - val_loss: 1.7675 - val_accuracy: 0.7848\n",
            "Epoch 29/50\n",
            "625/625 [==============================] - 3s 4ms/step - loss: 0.0223 - accuracy: 0.9911 - val_loss: 1.8896 - val_accuracy: 0.7898\n",
            "Epoch 30/50\n",
            "625/625 [==============================] - 3s 5ms/step - loss: 0.0199 - accuracy: 0.9911 - val_loss: 1.9233 - val_accuracy: 0.7858\n",
            "Epoch 31/50\n",
            "625/625 [==============================] - 3s 5ms/step - loss: 0.0215 - accuracy: 0.9907 - val_loss: 2.0422 - val_accuracy: 0.7803\n",
            "Epoch 32/50\n",
            "625/625 [==============================] - 3s 4ms/step - loss: 0.0242 - accuracy: 0.9911 - val_loss: 1.9351 - val_accuracy: 0.7897\n",
            "Epoch 33/50\n",
            "625/625 [==============================] - 3s 4ms/step - loss: 0.0237 - accuracy: 0.9904 - val_loss: 2.0467 - val_accuracy: 0.7876\n",
            "Epoch 34/50\n",
            "625/625 [==============================] - 3s 5ms/step - loss: 0.0204 - accuracy: 0.9906 - val_loss: 2.0551 - val_accuracy: 0.7877\n",
            "Epoch 35/50\n",
            "625/625 [==============================] - 3s 4ms/step - loss: 0.0234 - accuracy: 0.9895 - val_loss: 2.0232 - val_accuracy: 0.7904\n",
            "Epoch 36/50\n",
            "625/625 [==============================] - 3s 4ms/step - loss: 0.0205 - accuracy: 0.9914 - val_loss: 2.0408 - val_accuracy: 0.7913\n",
            "Epoch 37/50\n",
            "625/625 [==============================] - 3s 4ms/step - loss: 0.0184 - accuracy: 0.9921 - val_loss: 2.1255 - val_accuracy: 0.7924\n",
            "Epoch 38/50\n",
            "625/625 [==============================] - 3s 4ms/step - loss: 0.0198 - accuracy: 0.9923 - val_loss: 2.0964 - val_accuracy: 0.7854\n",
            "Epoch 39/50\n",
            "625/625 [==============================] - 3s 4ms/step - loss: 0.0170 - accuracy: 0.9928 - val_loss: 2.1606 - val_accuracy: 0.7906\n",
            "Epoch 40/50\n",
            "625/625 [==============================] - 3s 4ms/step - loss: 0.0211 - accuracy: 0.9914 - val_loss: 2.2310 - val_accuracy: 0.7812\n",
            "Epoch 41/50\n",
            "625/625 [==============================] - 3s 4ms/step - loss: 0.0184 - accuracy: 0.9910 - val_loss: 2.3626 - val_accuracy: 0.7883\n",
            "Epoch 42/50\n",
            "625/625 [==============================] - 3s 4ms/step - loss: 0.0211 - accuracy: 0.9902 - val_loss: 2.3413 - val_accuracy: 0.7956\n",
            "Epoch 43/50\n",
            "625/625 [==============================] - 3s 4ms/step - loss: 0.0180 - accuracy: 0.9919 - val_loss: 2.2256 - val_accuracy: 0.7858\n",
            "Epoch 44/50\n",
            "625/625 [==============================] - 3s 4ms/step - loss: 0.0218 - accuracy: 0.9903 - val_loss: 2.2613 - val_accuracy: 0.7889\n",
            "Epoch 45/50\n",
            "625/625 [==============================] - 3s 4ms/step - loss: 0.0190 - accuracy: 0.9920 - val_loss: 2.4422 - val_accuracy: 0.7925\n",
            "Epoch 46/50\n",
            "625/625 [==============================] - 3s 4ms/step - loss: 0.0188 - accuracy: 0.9924 - val_loss: 2.3946 - val_accuracy: 0.7913\n",
            "Epoch 47/50\n",
            "625/625 [==============================] - 3s 4ms/step - loss: 0.0176 - accuracy: 0.9919 - val_loss: 2.4862 - val_accuracy: 0.7940\n",
            "Epoch 48/50\n",
            "625/625 [==============================] - 3s 4ms/step - loss: 0.0204 - accuracy: 0.9911 - val_loss: 2.3821 - val_accuracy: 0.7816\n",
            "Epoch 49/50\n",
            "625/625 [==============================] - 3s 4ms/step - loss: 0.0187 - accuracy: 0.9912 - val_loss: 2.5393 - val_accuracy: 0.7882\n",
            "Epoch 50/50\n",
            "625/625 [==============================] - 3s 4ms/step - loss: 0.0157 - accuracy: 0.9930 - val_loss: 2.6054 - val_accuracy: 0.7810\n"
          ],
          "name": "stdout"
        }
      ]
    },
    {
      "cell_type": "code",
      "metadata": {
        "id": "g9DC6dmLF8DC",
        "colab": {
          "base_uri": "https://localhost:8080/",
          "height": 541
        },
        "outputId": "19d504ba-9d84-4ca5-fd03-29b89ca2dd75"
      },
      "source": [
        "import matplotlib.pyplot as plt\n",
        "\n",
        "\n",
        "def plot_graphs(history, string):\n",
        "  plt.plot(history.history[string])\n",
        "  plt.plot(history.history['val_'+string])\n",
        "  plt.xlabel(\"Epochs\")\n",
        "  plt.ylabel(string)\n",
        "  plt.legend([string, 'val_'+string])\n",
        "  plt.show()\n",
        "\n",
        "plot_graphs(history, 'accuracy')\n",
        "plot_graphs(history, 'loss')"
      ],
      "execution_count": 2,
      "outputs": [
        {
          "output_type": "display_data",
          "data": {
            "image/png": "[encoded data removed]",
            "text/plain": [
              "<Figure size 432x288 with 1 Axes>"
            ]
          },
          "metadata": {
            "tags": [],
            "needs_background": "light"
          }
        },
        {
          "output_type": "display_data",
          "data": {
            "image/png": "[encoded data removed]",
            "text/plain": [
              "<Figure size 432x288 with 1 Axes>"
            ]
          },
          "metadata": {
            "tags": [],
            "needs_background": "light"
          }
        }
      ]
    },
    {
      "cell_type": "code",
      "metadata": {
        "id": "7ZEZIUppGhdi"
      },
      "source": [
        "model.save(\"test.h5\")"
      ],
      "execution_count": 3,
      "outputs": []
    }
  ]
}