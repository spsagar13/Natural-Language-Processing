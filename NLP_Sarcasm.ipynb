{
  "nbformat": 4,
  "nbformat_minor": 0,
  "metadata": {
    "colab": {
      "name": "NLP Sarcasm.ipynb",
      "provenance": []
    },
    "kernelspec": {
      "name": "python3",
      "display_name": "Python 3"
    },
    "language_info": {
      "name": "python"
    }
  },
  "cells": [
    {
      "cell_type": "code",
      "metadata": {
        "id": "FG2EJUXxPooy"
      },
      "source": [
        "# Run this to ensure TensorFlow 2.x is used\n",
        "try:\n",
        "  # %tensorflow_version only exists in Colab.\n",
        "  %tensorflow_version 2.x\n",
        "except Exception:\n",
        "  pass"
      ],
      "execution_count": null,
      "outputs": []
    },
    {
      "cell_type": "code",
      "metadata": {
        "id": "hg7V-HeMHiFu"
      },
      "source": [
        "import json\n",
        "import tensorflow as tf\n",
        "\n",
        "from tensorflow.keras.preprocessing.text import Tokenizer\n",
        "from tensorflow.keras.preprocessing.sequence import pad_sequences\n",
        "\n",
        "#Hyperparemeters\n",
        "\n",
        "vocab_size = 10000\n",
        "embedding_dim = 16\n",
        "max_length = 32\n",
        "trunc_type = 'post'\n",
        "padding_type = 'post'\n",
        "oov_tok = '<OOV>'\n",
        "training_size = 20000\n"
      ],
      "execution_count": null,
      "outputs": []
    },
    {
      "cell_type": "code",
      "metadata": {
        "colab": {
          "base_uri": "https://localhost:8080/"
        },
        "id": "gCQYOx4wIkG4",
        "outputId": "b2ba9501-8065-4ba9-fea2-16866c825b86"
      },
      "source": [
        "!wget --no-check-certificate \\\n",
        "    https://storage.googleapis.com/laurencemoroney-blog.appspot.com/sarcasm.json \\\n",
        "    -O /tmp/sarcasm.json\n"
      ],
      "execution_count": null,
      "outputs": [
        {
          "output_type": "stream",
          "text": [
            "--2021-03-27 19:29:33--  https://storage.googleapis.com/laurencemoroney-blog.appspot.com/sarcasm.json\n",
            "Resolving storage.googleapis.com (storage.googleapis.com)... 74.125.142.128, 74.125.195.128, 142.250.107.128, ...\n",
            "Connecting to storage.googleapis.com (storage.googleapis.com)|74.125.142.128|:443... connected.\n",
            "HTTP request sent, awaiting response... 200 OK\n",
            "Length: 5643545 (5.4M) [application/json]\n",
            "Saving to: ‘/tmp/sarcasm.json’\n",
            "\n",
            "\r/tmp/sarcasm.json     0%[                    ]       0  --.-KB/s               \r/tmp/sarcasm.json   100%[===================>]   5.38M  --.-KB/s    in 0.03s   \n",
            "\n",
            "2021-03-27 19:29:33 (184 MB/s) - ‘/tmp/sarcasm.json’ saved [5643545/5643545]\n",
            "\n"
          ],
          "name": "stdout"
        }
      ]
    },
    {
      "cell_type": "code",
      "metadata": {
        "id": "GVpREHLlKe80"
      },
      "source": [
        "import json\n",
        "with open('/tmp/sarcasm.json', 'r') as f:\n",
        "  datastore = json.load(f)\n",
        "\n",
        "sentences = []\n",
        "labels = []\n",
        "\n",
        "for item in datastore:\n",
        "  sentences.append(item['headline'])\n",
        "  labels.append(item['is_sarcastic'])"
      ],
      "execution_count": null,
      "outputs": []
    },
    {
      "cell_type": "code",
      "metadata": {
        "id": "0nl4LObmK7s3"
      },
      "source": [
        "training_sentences = sentences[:training_size]\n",
        "training_labels = labels[:training_size]\n",
        "testing_sentences = sentences[training_size:]\n",
        "testing_labels = labels[training_size:]"
      ],
      "execution_count": null,
      "outputs": []
    },
    {
      "cell_type": "code",
      "metadata": {
        "id": "Do8x949dLP24"
      },
      "source": [
        "tokenizer = Tokenizer(num_words=vocab_size, oov_token=oov_tok)\n",
        "tokenizer.fit_on_texts(training_sentences)\n",
        "word_index = tokenizer.word_index\n",
        "\n",
        "training_sequences = tokenizer.texts_to_sequences(training_sentences)\n",
        "training_padded= pad_sequences(training_sequences, maxlen=max_length, padding=padding_type, truncating=trunc_type)\n",
        "\n",
        "testing_sequences = tokenizer.texts_to_sequences(testing_sentences)\n",
        "testing_padded = pad_sequences(testing_sequences, padding=padding_type, truncating=trunc_type, maxlen=max_length)"
      ],
      "execution_count": null,
      "outputs": []
    },
    {
      "cell_type": "code",
      "metadata": {
        "id": "ocSdLKyBNy4Y"
      },
      "source": [
        "import numpy as np\n",
        "\n",
        "training_padded = np.array(training_padded)\n",
        "training_labels = np.array(training_labels)\n",
        "testing_padded = np.array(testing_padded)\n",
        "testing_labels = np.array(testing_labels)"
      ],
      "execution_count": null,
      "outputs": []
    },
    {
      "cell_type": "code",
      "metadata": {
        "id": "bc7_0RXxOREZ"
      },
      "source": [
        "model = tf.keras.models.Sequential([\n",
        "                                    tf.keras.layers.Embedding(vocab_size, embedding_dim, input_length=max_length),\n",
        "                                    tf.keras.layers.GlobalAveragePooling1D(),\n",
        "                                    tf.keras.layers.Dense(24, activation='relu'),\n",
        "                                    tf.keras.layers.Dense(1, activation='sigmoid')\n",
        "])\n",
        "\n",
        "model.compile(loss='binary_crossentropy', optimizer='adam', metrics=['accuracy'])"
      ],
      "execution_count": null,
      "outputs": []
    },
    {
      "cell_type": "code",
      "metadata": {
        "colab": {
          "base_uri": "https://localhost:8080/"
        },
        "id": "MuwnXLbTO0Sf",
        "outputId": "fcfd1e1d-f7a3-4d74-a600-6a59098740a0"
      },
      "source": [
        "model.summary()"
      ],
      "execution_count": null,
      "outputs": [
        {
          "output_type": "stream",
          "text": [
            "Model: \"sequential_1\"\n",
            "_________________________________________________________________\n",
            "Layer (type)                 Output Shape              Param #   \n",
            "=================================================================\n",
            "embedding_1 (Embedding)      (None, 32, 16)            160000    \n",
            "_________________________________________________________________\n",
            "global_average_pooling1d_1 ( (None, 16)                0         \n",
            "_________________________________________________________________\n",
            "dense_2 (Dense)              (None, 24)                408       \n",
            "_________________________________________________________________\n",
            "dense_3 (Dense)              (None, 1)                 25        \n",
            "=================================================================\n",
            "Total params: 160,433\n",
            "Trainable params: 160,433\n",
            "Non-trainable params: 0\n",
            "_________________________________________________________________\n"
          ],
          "name": "stdout"
        }
      ]
    },
    {
      "cell_type": "code",
      "metadata": {
        "colab": {
          "base_uri": "https://localhost:8080/"
        },
        "id": "RlROwY6sO4W-",
        "outputId": "988bdab3-501b-44f1-fe3d-11ba8d602463"
      },
      "source": [
        "num_epochs = 30\n",
        "\n",
        "history = model.fit(training_padded, training_labels, epochs=num_epochs, validation_data=(testing_padded,testing_labels), verbose=2)"
      ],
      "execution_count": null,
      "outputs": [
        {
          "output_type": "stream",
          "text": [
            "Epoch 1/30\n",
            "625/625 - 3s - loss: 0.5746 - accuracy: 0.6931 - val_loss: 0.4031 - val_accuracy: 0.8350\n",
            "Epoch 2/30\n",
            "625/625 - 2s - loss: 0.3182 - accuracy: 0.8712 - val_loss: 0.3441 - val_accuracy: 0.8539\n",
            "Epoch 3/30\n",
            "625/625 - 2s - loss: 0.2400 - accuracy: 0.9057 - val_loss: 0.3407 - val_accuracy: 0.8557\n",
            "Epoch 4/30\n",
            "625/625 - 2s - loss: 0.1944 - accuracy: 0.9255 - val_loss: 0.3540 - val_accuracy: 0.8544\n",
            "Epoch 5/30\n",
            "625/625 - 2s - loss: 0.1615 - accuracy: 0.9393 - val_loss: 0.3783 - val_accuracy: 0.8524\n",
            "Epoch 6/30\n",
            "625/625 - 2s - loss: 0.1364 - accuracy: 0.9513 - val_loss: 0.4099 - val_accuracy: 0.8477\n",
            "Epoch 7/30\n",
            "625/625 - 2s - loss: 0.1177 - accuracy: 0.9589 - val_loss: 0.4474 - val_accuracy: 0.8410\n",
            "Epoch 8/30\n",
            "625/625 - 2s - loss: 0.1022 - accuracy: 0.9658 - val_loss: 0.4804 - val_accuracy: 0.8401\n",
            "Epoch 9/30\n",
            "625/625 - 2s - loss: 0.0880 - accuracy: 0.9723 - val_loss: 0.5188 - val_accuracy: 0.8387\n",
            "Epoch 10/30\n",
            "625/625 - 2s - loss: 0.0767 - accuracy: 0.9749 - val_loss: 0.5661 - val_accuracy: 0.8331\n",
            "Epoch 11/30\n",
            "625/625 - 2s - loss: 0.0659 - accuracy: 0.9794 - val_loss: 0.6116 - val_accuracy: 0.8313\n",
            "Epoch 12/30\n",
            "625/625 - 2s - loss: 0.0590 - accuracy: 0.9823 - val_loss: 0.6696 - val_accuracy: 0.8241\n",
            "Epoch 13/30\n",
            "625/625 - 2s - loss: 0.0517 - accuracy: 0.9848 - val_loss: 0.7053 - val_accuracy: 0.8256\n",
            "Epoch 14/30\n",
            "625/625 - 2s - loss: 0.0444 - accuracy: 0.9875 - val_loss: 0.7736 - val_accuracy: 0.8226\n",
            "Epoch 15/30\n",
            "625/625 - 2s - loss: 0.0396 - accuracy: 0.9891 - val_loss: 0.8029 - val_accuracy: 0.8205\n",
            "Epoch 16/30\n",
            "625/625 - 2s - loss: 0.0352 - accuracy: 0.9900 - val_loss: 0.8569 - val_accuracy: 0.8185\n",
            "Epoch 17/30\n",
            "625/625 - 2s - loss: 0.0317 - accuracy: 0.9906 - val_loss: 0.9141 - val_accuracy: 0.8156\n",
            "Epoch 18/30\n",
            "625/625 - 2s - loss: 0.0284 - accuracy: 0.9919 - val_loss: 0.9861 - val_accuracy: 0.8138\n",
            "Epoch 19/30\n",
            "625/625 - 2s - loss: 0.0243 - accuracy: 0.9935 - val_loss: 1.0448 - val_accuracy: 0.8116\n",
            "Epoch 20/30\n",
            "625/625 - 2s - loss: 0.0213 - accuracy: 0.9944 - val_loss: 1.1106 - val_accuracy: 0.8101\n",
            "Epoch 21/30\n",
            "625/625 - 2s - loss: 0.0191 - accuracy: 0.9948 - val_loss: 1.1770 - val_accuracy: 0.8089\n",
            "Epoch 22/30\n",
            "625/625 - 2s - loss: 0.0172 - accuracy: 0.9956 - val_loss: 1.2435 - val_accuracy: 0.8077\n",
            "Epoch 23/30\n",
            "625/625 - 2s - loss: 0.0151 - accuracy: 0.9961 - val_loss: 1.3053 - val_accuracy: 0.8088\n",
            "Epoch 24/30\n",
            "625/625 - 2s - loss: 0.0134 - accuracy: 0.9962 - val_loss: 1.3619 - val_accuracy: 0.8095\n",
            "Epoch 25/30\n",
            "625/625 - 2s - loss: 0.0130 - accuracy: 0.9968 - val_loss: 1.4365 - val_accuracy: 0.8065\n",
            "Epoch 26/30\n",
            "625/625 - 2s - loss: 0.0110 - accuracy: 0.9968 - val_loss: 1.5145 - val_accuracy: 0.8034\n",
            "Epoch 27/30\n",
            "625/625 - 2s - loss: 0.0097 - accuracy: 0.9968 - val_loss: 1.5818 - val_accuracy: 0.8028\n",
            "Epoch 28/30\n",
            "625/625 - 2s - loss: 0.0094 - accuracy: 0.9973 - val_loss: 1.6520 - val_accuracy: 0.8032\n",
            "Epoch 29/30\n",
            "625/625 - 2s - loss: 0.0081 - accuracy: 0.9975 - val_loss: 1.7072 - val_accuracy: 0.8038\n",
            "Epoch 30/30\n",
            "625/625 - 2s - loss: 0.0074 - accuracy: 0.9980 - val_loss: 1.7755 - val_accuracy: 0.8016\n"
          ],
          "name": "stdout"
        }
      ]
    },
    {
      "cell_type": "code",
      "metadata": {
        "colab": {
          "base_uri": "https://localhost:8080/",
          "height": 541
        },
        "id": "kEPzQztkQlPP",
        "outputId": "b8c3f34e-7169-4406-cc1f-a12c6bb46849"
      },
      "source": [
        "import matplotlib.pyplot as plt\n",
        "\n",
        "def plot_graphs(history, string):\n",
        "  plt.plot(history.history[string])\n",
        "  plt.plot(history.history['val_'+string])\n",
        "  plt.xlabel(\"Epochs\")\n",
        "  plt.ylabel(string)\n",
        "  plt.legend([string, 'val_'+string])\n",
        "  plt.show()\n",
        "\n",
        "plot_graphs(history, 'accuracy')\n",
        "plot_graphs(history, 'loss')"
      ],
      "execution_count": null,
      "outputs": [
        {
          "output_type": "display_data",
          "data": {
            "image/png": "[encoded data removed]",
            "text/plain": [
              "<Figure size 432x288 with 1 Axes>"
            ]
          },
          "metadata": {
            "tags": [],
            "needs_background": "light"
          }
        },
        {
          "output_type": "display_data",
          "data": {
            "image/png": "[encoded data removed]",
            "text/plain": [
              "<Figure size 432x288 with 1 Axes>"
            ]
          },
          "metadata": {
            "tags": [],
            "needs_background": "light"
          }
        }
      ]
    }
  ]
}