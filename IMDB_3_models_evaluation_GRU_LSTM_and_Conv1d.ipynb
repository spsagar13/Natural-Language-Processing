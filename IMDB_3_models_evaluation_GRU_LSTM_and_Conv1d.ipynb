{
  "nbformat": 4,
  "nbformat_minor": 0,
  "metadata": {
    "accelerator": "GPU",
    "colab": {
      "name": "IMDB with GRU LSTM and Conv1d.ipynb",
      "provenance": [],
      "collapsed_sections": [],
      "include_colab_link": true
    },
    "kernelspec": {
      "display_name": "Python 3",
      "name": "python3"
    },
    "widgets": {
      "application/vnd.jupyter.widget-state+json": {
        "b1f363e1ec2844b8bd4fb8bd482c0541": {
          "model_module": "@jupyter-widgets/controls",
          "model_name": "HBoxModel",
          "state": {
            "_view_name": "HBoxView",
            "_dom_classes": [],
            "_model_name": "HBoxModel",
            "_view_module": "@jupyter-widgets/controls",
            "_model_module_version": "1.5.0",
            "_view_count": null,
            "_view_module_version": "1.5.0",
            "box_style": "",
            "layout": "IPY_MODEL_61a303eb759a4d908dd66d38de9c9c84",
            "_model_module": "@jupyter-widgets/controls",
            "children": [
              "IPY_MODEL_cb563cc169f24e9ea2e1f41ab35b8989",
              "IPY_MODEL_193a95efd75947af883e68ccc199826a"
            ]
          }
        },
        "61a303eb759a4d908dd66d38de9c9c84": {
          "model_module": "@jupyter-widgets/base",
          "model_name": "LayoutModel",
          "state": {
            "_view_name": "LayoutView",
            "grid_template_rows": null,
            "right": null,
            "justify_content": null,
            "_view_module": "@jupyter-widgets/base",
            "overflow": null,
            "_model_module_version": "1.2.0",
            "_view_count": null,
            "flex_flow": null,
            "width": null,
            "min_width": null,
            "border": null,
            "align_items": null,
            "bottom": null,
            "_model_module": "@jupyter-widgets/base",
            "top": null,
            "grid_column": null,
            "overflow_y": null,
            "overflow_x": null,
            "grid_auto_flow": null,
            "grid_area": null,
            "grid_template_columns": null,
            "flex": null,
            "_model_name": "LayoutModel",
            "justify_items": null,
            "grid_row": null,
            "max_height": null,
            "align_content": null,
            "visibility": null,
            "align_self": null,
            "height": null,
            "min_height": null,
            "padding": null,
            "grid_auto_rows": null,
            "grid_gap": null,
            "max_width": null,
            "order": null,
            "_view_module_version": "1.2.0",
            "grid_template_areas": null,
            "object_position": null,
            "object_fit": null,
            "grid_auto_columns": null,
            "margin": null,
            "display": null,
            "left": null
          }
        },
        "cb563cc169f24e9ea2e1f41ab35b8989": {
          "model_module": "@jupyter-widgets/controls",
          "model_name": "FloatProgressModel",
          "state": {
            "_view_name": "ProgressView",
            "style": "IPY_MODEL_151a95584a2a4619ace68da82d2c687f",
            "_dom_classes": [],
            "description": "Dl Completed...: 100%",
            "_model_name": "FloatProgressModel",
            "bar_style": "success",
            "max": 1,
            "_view_module": "@jupyter-widgets/controls",
            "_model_module_version": "1.5.0",
            "value": 1,
            "_view_count": null,
            "_view_module_version": "1.5.0",
            "orientation": "horizontal",
            "min": 0,
            "description_tooltip": null,
            "_model_module": "@jupyter-widgets/controls",
            "layout": "IPY_MODEL_8837396832e244ebb6bbb72c96bf2142"
          }
        },
        "193a95efd75947af883e68ccc199826a": {
          "model_module": "@jupyter-widgets/controls",
          "model_name": "HTMLModel",
          "state": {
            "_view_name": "HTMLView",
            "style": "IPY_MODEL_8a71c73b63ce4073bece63f6d19df529",
            "_dom_classes": [],
            "description": "",
            "_model_name": "HTMLModel",
            "placeholder": "​",
            "_view_module": "@jupyter-widgets/controls",
            "_model_module_version": "1.5.0",
            "value": " 1/1 [00:04&lt;00:00,  4.46s/ url]",
            "_view_count": null,
            "_view_module_version": "1.5.0",
            "description_tooltip": null,
            "_model_module": "@jupyter-widgets/controls",
            "layout": "IPY_MODEL_119e2e6d3f87499f9d9f9a4cc2db90c9"
          }
        },
        "151a95584a2a4619ace68da82d2c687f": {
          "model_module": "@jupyter-widgets/controls",
          "model_name": "ProgressStyleModel",
          "state": {
            "_view_name": "StyleView",
            "_model_name": "ProgressStyleModel",
            "description_width": "initial",
            "_view_module": "@jupyter-widgets/base",
            "_model_module_version": "1.5.0",
            "_view_count": null,
            "_view_module_version": "1.2.0",
            "bar_color": null,
            "_model_module": "@jupyter-widgets/controls"
          }
        },
        "8837396832e244ebb6bbb72c96bf2142": {
          "model_module": "@jupyter-widgets/base",
          "model_name": "LayoutModel",
          "state": {
            "_view_name": "LayoutView",
            "grid_template_rows": null,
            "right": null,
            "justify_content": null,
            "_view_module": "@jupyter-widgets/base",
            "overflow": null,
            "_model_module_version": "1.2.0",
            "_view_count": null,
            "flex_flow": null,
            "width": null,
            "min_width": null,
            "border": null,
            "align_items": null,
            "bottom": null,
            "_model_module": "@jupyter-widgets/base",
            "top": null,
            "grid_column": null,
            "overflow_y": null,
            "overflow_x": null,
            "grid_auto_flow": null,
            "grid_area": null,
            "grid_template_columns": null,
            "flex": null,
            "_model_name": "LayoutModel",
            "justify_items": null,
            "grid_row": null,
            "max_height": null,
            "align_content": null,
            "visibility": null,
            "align_self": null,
            "height": null,
            "min_height": null,
            "padding": null,
            "grid_auto_rows": null,
            "grid_gap": null,
            "max_width": null,
            "order": null,
            "_view_module_version": "1.2.0",
            "grid_template_areas": null,
            "object_position": null,
            "object_fit": null,
            "grid_auto_columns": null,
            "margin": null,
            "display": null,
            "left": null
          }
        },
        "8a71c73b63ce4073bece63f6d19df529": {
          "model_module": "@jupyter-widgets/controls",
          "model_name": "DescriptionStyleModel",
          "state": {
            "_view_name": "StyleView",
            "_model_name": "DescriptionStyleModel",
            "description_width": "",
            "_view_module": "@jupyter-widgets/base",
            "_model_module_version": "1.5.0",
            "_view_count": null,
            "_view_module_version": "1.2.0",
            "_model_module": "@jupyter-widgets/controls"
          }
        },
        "119e2e6d3f87499f9d9f9a4cc2db90c9": {
          "model_module": "@jupyter-widgets/base",
          "model_name": "LayoutModel",
          "state": {
            "_view_name": "LayoutView",
            "grid_template_rows": null,
            "right": null,
            "justify_content": null,
            "_view_module": "@jupyter-widgets/base",
            "overflow": null,
            "_model_module_version": "1.2.0",
            "_view_count": null,
            "flex_flow": null,
            "width": null,
            "min_width": null,
            "border": null,
            "align_items": null,
            "bottom": null,
            "_model_module": "@jupyter-widgets/base",
            "top": null,
            "grid_column": null,
            "overflow_y": null,
            "overflow_x": null,
            "grid_auto_flow": null,
            "grid_area": null,
            "grid_template_columns": null,
            "flex": null,
            "_model_name": "LayoutModel",
            "justify_items": null,
            "grid_row": null,
            "max_height": null,
            "align_content": null,
            "visibility": null,
            "align_self": null,
            "height": null,
            "min_height": null,
            "padding": null,
            "grid_auto_rows": null,
            "grid_gap": null,
            "max_width": null,
            "order": null,
            "_view_module_version": "1.2.0",
            "grid_template_areas": null,
            "object_position": null,
            "object_fit": null,
            "grid_auto_columns": null,
            "margin": null,
            "display": null,
            "left": null
          }
        },
        "9c282e5bedf74d6a9e98269c75276322": {
          "model_module": "@jupyter-widgets/controls",
          "model_name": "HBoxModel",
          "state": {
            "_view_name": "HBoxView",
            "_dom_classes": [],
            "_model_name": "HBoxModel",
            "_view_module": "@jupyter-widgets/controls",
            "_model_module_version": "1.5.0",
            "_view_count": null,
            "_view_module_version": "1.5.0",
            "box_style": "",
            "layout": "IPY_MODEL_b4833c4b9c1d420a80997063e3d17568",
            "_model_module": "@jupyter-widgets/controls",
            "children": [
              "IPY_MODEL_92922c1dc17742bd82a4e7d47283b5bf",
              "IPY_MODEL_61fb5c560789492cad8ccb7165e63666"
            ]
          }
        },
        "b4833c4b9c1d420a80997063e3d17568": {
          "model_module": "@jupyter-widgets/base",
          "model_name": "LayoutModel",
          "state": {
            "_view_name": "LayoutView",
            "grid_template_rows": null,
            "right": null,
            "justify_content": null,
            "_view_module": "@jupyter-widgets/base",
            "overflow": null,
            "_model_module_version": "1.2.0",
            "_view_count": null,
            "flex_flow": null,
            "width": null,
            "min_width": null,
            "border": null,
            "align_items": null,
            "bottom": null,
            "_model_module": "@jupyter-widgets/base",
            "top": null,
            "grid_column": null,
            "overflow_y": null,
            "overflow_x": null,
            "grid_auto_flow": null,
            "grid_area": null,
            "grid_template_columns": null,
            "flex": null,
            "_model_name": "LayoutModel",
            "justify_items": null,
            "grid_row": null,
            "max_height": null,
            "align_content": null,
            "visibility": null,
            "align_self": null,
            "height": null,
            "min_height": null,
            "padding": null,
            "grid_auto_rows": null,
            "grid_gap": null,
            "max_width": null,
            "order": null,
            "_view_module_version": "1.2.0",
            "grid_template_areas": null,
            "object_position": null,
            "object_fit": null,
            "grid_auto_columns": null,
            "margin": null,
            "display": null,
            "left": null
          }
        },
        "92922c1dc17742bd82a4e7d47283b5bf": {
          "model_module": "@jupyter-widgets/controls",
          "model_name": "FloatProgressModel",
          "state": {
            "_view_name": "ProgressView",
            "style": "IPY_MODEL_0a703e92039f4080b3bc83377c683a46",
            "_dom_classes": [],
            "description": "Dl Size...: 100%",
            "_model_name": "FloatProgressModel",
            "bar_style": "success",
            "max": 1,
            "_view_module": "@jupyter-widgets/controls",
            "_model_module_version": "1.5.0",
            "value": 1,
            "_view_count": null,
            "_view_module_version": "1.5.0",
            "orientation": "horizontal",
            "min": 0,
            "description_tooltip": null,
            "_model_module": "@jupyter-widgets/controls",
            "layout": "IPY_MODEL_ff6086bda50e4eecb873fb673c5510df"
          }
        },
        "61fb5c560789492cad8ccb7165e63666": {
          "model_module": "@jupyter-widgets/controls",
          "model_name": "HTMLModel",
          "state": {
            "_view_name": "HTMLView",
            "style": "IPY_MODEL_4767d5c7787d443bb110420a4644dbea",
            "_dom_classes": [],
            "description": "",
            "_model_name": "HTMLModel",
            "placeholder": "​",
            "_view_module": "@jupyter-widgets/controls",
            "_model_module_version": "1.5.0",
            "value": " 80/80 [00:04&lt;00:00, 18.15 MiB/s]",
            "_view_count": null,
            "_view_module_version": "1.5.0",
            "description_tooltip": null,
            "_model_module": "@jupyter-widgets/controls",
            "layout": "IPY_MODEL_99615696d2944b679ec4b7b3eaa1c9f0"
          }
        },
        "0a703e92039f4080b3bc83377c683a46": {
          "model_module": "@jupyter-widgets/controls",
          "model_name": "ProgressStyleModel",
          "state": {
            "_view_name": "StyleView",
            "_model_name": "ProgressStyleModel",
            "description_width": "initial",
            "_view_module": "@jupyter-widgets/base",
            "_model_module_version": "1.5.0",
            "_view_count": null,
            "_view_module_version": "1.2.0",
            "bar_color": null,
            "_model_module": "@jupyter-widgets/controls"
          }
        },
        "ff6086bda50e4eecb873fb673c5510df": {
          "model_module": "@jupyter-widgets/base",
          "model_name": "LayoutModel",
          "state": {
            "_view_name": "LayoutView",
            "grid_template_rows": null,
            "right": null,
            "justify_content": null,
            "_view_module": "@jupyter-widgets/base",
            "overflow": null,
            "_model_module_version": "1.2.0",
            "_view_count": null,
            "flex_flow": null,
            "width": null,
            "min_width": null,
            "border": null,
            "align_items": null,
            "bottom": null,
            "_model_module": "@jupyter-widgets/base",
            "top": null,
            "grid_column": null,
            "overflow_y": null,
            "overflow_x": null,
            "grid_auto_flow": null,
            "grid_area": null,
            "grid_template_columns": null,
            "flex": null,
            "_model_name": "LayoutModel",
            "justify_items": null,
            "grid_row": null,
            "max_height": null,
            "align_content": null,
            "visibility": null,
            "align_self": null,
            "height": null,
            "min_height": null,
            "padding": null,
            "grid_auto_rows": null,
            "grid_gap": null,
            "max_width": null,
            "order": null,
            "_view_module_version": "1.2.0",
            "grid_template_areas": null,
            "object_position": null,
            "object_fit": null,
            "grid_auto_columns": null,
            "margin": null,
            "display": null,
            "left": null
          }
        },
        "4767d5c7787d443bb110420a4644dbea": {
          "model_module": "@jupyter-widgets/controls",
          "model_name": "DescriptionStyleModel",
          "state": {
            "_view_name": "StyleView",
            "_model_name": "DescriptionStyleModel",
            "description_width": "",
            "_view_module": "@jupyter-widgets/base",
            "_model_module_version": "1.5.0",
            "_view_count": null,
            "_view_module_version": "1.2.0",
            "_model_module": "@jupyter-widgets/controls"
          }
        },
        "99615696d2944b679ec4b7b3eaa1c9f0": {
          "model_module": "@jupyter-widgets/base",
          "model_name": "LayoutModel",
          "state": {
            "_view_name": "LayoutView",
            "grid_template_rows": null,
            "right": null,
            "justify_content": null,
            "_view_module": "@jupyter-widgets/base",
            "overflow": null,
            "_model_module_version": "1.2.0",
            "_view_count": null,
            "flex_flow": null,
            "width": null,
            "min_width": null,
            "border": null,
            "align_items": null,
            "bottom": null,
            "_model_module": "@jupyter-widgets/base",
            "top": null,
            "grid_column": null,
            "overflow_y": null,
            "overflow_x": null,
            "grid_auto_flow": null,
            "grid_area": null,
            "grid_template_columns": null,
            "flex": null,
            "_model_name": "LayoutModel",
            "justify_items": null,
            "grid_row": null,
            "max_height": null,
            "align_content": null,
            "visibility": null,
            "align_self": null,
            "height": null,
            "min_height": null,
            "padding": null,
            "grid_auto_rows": null,
            "grid_gap": null,
            "max_width": null,
            "order": null,
            "_view_module_version": "1.2.0",
            "grid_template_areas": null,
            "object_position": null,
            "object_fit": null,
            "grid_auto_columns": null,
            "margin": null,
            "display": null,
            "left": null
          }
        },
        "628ab29d83c04b77baf8ef073005234c": {
          "model_module": "@jupyter-widgets/controls",
          "model_name": "HBoxModel",
          "state": {
            "_view_name": "HBoxView",
            "_dom_classes": [],
            "_model_name": "HBoxModel",
            "_view_module": "@jupyter-widgets/controls",
            "_model_module_version": "1.5.0",
            "_view_count": null,
            "_view_module_version": "1.5.0",
            "box_style": "",
            "layout": "IPY_MODEL_740baac27c1f48a38765f5c90cda179b",
            "_model_module": "@jupyter-widgets/controls",
            "children": [
              "IPY_MODEL_0307bdf819a5401a9b593cb1360cffc2",
              "IPY_MODEL_86c13279ac8b4466bce7f4f046460cf7"
            ]
          }
        },
        "740baac27c1f48a38765f5c90cda179b": {
          "model_module": "@jupyter-widgets/base",
          "model_name": "LayoutModel",
          "state": {
            "_view_name": "LayoutView",
            "grid_template_rows": null,
            "right": null,
            "justify_content": null,
            "_view_module": "@jupyter-widgets/base",
            "overflow": null,
            "_model_module_version": "1.2.0",
            "_view_count": null,
            "flex_flow": null,
            "width": null,
            "min_width": null,
            "border": null,
            "align_items": null,
            "bottom": null,
            "_model_module": "@jupyter-widgets/base",
            "top": null,
            "grid_column": null,
            "overflow_y": null,
            "overflow_x": null,
            "grid_auto_flow": null,
            "grid_area": null,
            "grid_template_columns": null,
            "flex": null,
            "_model_name": "LayoutModel",
            "justify_items": null,
            "grid_row": null,
            "max_height": null,
            "align_content": null,
            "visibility": null,
            "align_self": null,
            "height": null,
            "min_height": null,
            "padding": null,
            "grid_auto_rows": null,
            "grid_gap": null,
            "max_width": null,
            "order": null,
            "_view_module_version": "1.2.0",
            "grid_template_areas": null,
            "object_position": null,
            "object_fit": null,
            "grid_auto_columns": null,
            "margin": null,
            "display": null,
            "left": null
          }
        },
        "0307bdf819a5401a9b593cb1360cffc2": {
          "model_module": "@jupyter-widgets/controls",
          "model_name": "FloatProgressModel",
          "state": {
            "_view_name": "ProgressView",
            "style": "IPY_MODEL_2762a26d79cb4c349ae6e4ba35003a72",
            "_dom_classes": [],
            "description": "",
            "_model_name": "FloatProgressModel",
            "bar_style": "info",
            "max": 1,
            "_view_module": "@jupyter-widgets/controls",
            "_model_module_version": "1.5.0",
            "value": 1,
            "_view_count": null,
            "_view_module_version": "1.5.0",
            "orientation": "horizontal",
            "min": 0,
            "description_tooltip": null,
            "_model_module": "@jupyter-widgets/controls",
            "layout": "IPY_MODEL_70c9e69e6fac4439acef9fa484d8eb01"
          }
        },
        "86c13279ac8b4466bce7f4f046460cf7": {
          "model_module": "@jupyter-widgets/controls",
          "model_name": "HTMLModel",
          "state": {
            "_view_name": "HTMLView",
            "style": "IPY_MODEL_ba1931c3cbde40b99a63130e3c16a986",
            "_dom_classes": [],
            "description": "",
            "_model_name": "HTMLModel",
            "placeholder": "​",
            "_view_module": "@jupyter-widgets/controls",
            "_model_module_version": "1.5.0",
            "value": " 25000/0 [00:13&lt;00:00, 3561.10 examples/s]",
            "_view_count": null,
            "_view_module_version": "1.5.0",
            "description_tooltip": null,
            "_model_module": "@jupyter-widgets/controls",
            "layout": "IPY_MODEL_851584918ba74e518f0eedb5ea7e7a6b"
          }
        },
        "2762a26d79cb4c349ae6e4ba35003a72": {
          "model_module": "@jupyter-widgets/controls",
          "model_name": "ProgressStyleModel",
          "state": {
            "_view_name": "StyleView",
            "_model_name": "ProgressStyleModel",
            "description_width": "initial",
            "_view_module": "@jupyter-widgets/base",
            "_model_module_version": "1.5.0",
            "_view_count": null,
            "_view_module_version": "1.2.0",
            "bar_color": null,
            "_model_module": "@jupyter-widgets/controls"
          }
        },
        "70c9e69e6fac4439acef9fa484d8eb01": {
          "model_module": "@jupyter-widgets/base",
          "model_name": "LayoutModel",
          "state": {
            "_view_name": "LayoutView",
            "grid_template_rows": null,
            "right": null,
            "justify_content": null,
            "_view_module": "@jupyter-widgets/base",
            "overflow": null,
            "_model_module_version": "1.2.0",
            "_view_count": null,
            "flex_flow": null,
            "width": null,
            "min_width": null,
            "border": null,
            "align_items": null,
            "bottom": null,
            "_model_module": "@jupyter-widgets/base",
            "top": null,
            "grid_column": null,
            "overflow_y": null,
            "overflow_x": null,
            "grid_auto_flow": null,
            "grid_area": null,
            "grid_template_columns": null,
            "flex": null,
            "_model_name": "LayoutModel",
            "justify_items": null,
            "grid_row": null,
            "max_height": null,
            "align_content": null,
            "visibility": null,
            "align_self": null,
            "height": null,
            "min_height": null,
            "padding": null,
            "grid_auto_rows": null,
            "grid_gap": null,
            "max_width": null,
            "order": null,
            "_view_module_version": "1.2.0",
            "grid_template_areas": null,
            "object_position": null,
            "object_fit": null,
            "grid_auto_columns": null,
            "margin": null,
            "display": null,
            "left": null
          }
        },
        "ba1931c3cbde40b99a63130e3c16a986": {
          "model_module": "@jupyter-widgets/controls",
          "model_name": "DescriptionStyleModel",
          "state": {
            "_view_name": "StyleView",
            "_model_name": "DescriptionStyleModel",
            "description_width": "",
            "_view_module": "@jupyter-widgets/base",
            "_model_module_version": "1.5.0",
            "_view_count": null,
            "_view_module_version": "1.2.0",
            "_model_module": "@jupyter-widgets/controls"
          }
        },
        "851584918ba74e518f0eedb5ea7e7a6b": {
          "model_module": "@jupyter-widgets/base",
          "model_name": "LayoutModel",
          "state": {
            "_view_name": "LayoutView",
            "grid_template_rows": null,
            "right": null,
            "justify_content": null,
            "_view_module": "@jupyter-widgets/base",
            "overflow": null,
            "_model_module_version": "1.2.0",
            "_view_count": null,
            "flex_flow": null,
            "width": null,
            "min_width": null,
            "border": null,
            "align_items": null,
            "bottom": null,
            "_model_module": "@jupyter-widgets/base",
            "top": null,
            "grid_column": null,
            "overflow_y": null,
            "overflow_x": null,
            "grid_auto_flow": null,
            "grid_area": null,
            "grid_template_columns": null,
            "flex": null,
            "_model_name": "LayoutModel",
            "justify_items": null,
            "grid_row": null,
            "max_height": null,
            "align_content": null,
            "visibility": null,
            "align_self": null,
            "height": null,
            "min_height": null,
            "padding": null,
            "grid_auto_rows": null,
            "grid_gap": null,
            "max_width": null,
            "order": null,
            "_view_module_version": "1.2.0",
            "grid_template_areas": null,
            "object_position": null,
            "object_fit": null,
            "grid_auto_columns": null,
            "margin": null,
            "display": null,
            "left": null
          }
        },
        "c72a2f1142224065bee29c86deae8194": {
          "model_module": "@jupyter-widgets/controls",
          "model_name": "HBoxModel",
          "state": {
            "_view_name": "HBoxView",
            "_dom_classes": [],
            "_model_name": "HBoxModel",
            "_view_module": "@jupyter-widgets/controls",
            "_model_module_version": "1.5.0",
            "_view_count": null,
            "_view_module_version": "1.5.0",
            "box_style": "",
            "layout": "IPY_MODEL_36fa9aa752e84daeb329a1e0aefafb6a",
            "_model_module": "@jupyter-widgets/controls",
            "children": [
              "IPY_MODEL_cca06c710d1d4531b05f234ab42c4b2c",
              "IPY_MODEL_2f21f6d2c9054786bf046f122d987982"
            ]
          }
        },
        "36fa9aa752e84daeb329a1e0aefafb6a": {
          "model_module": "@jupyter-widgets/base",
          "model_name": "LayoutModel",
          "state": {
            "_view_name": "LayoutView",
            "grid_template_rows": null,
            "right": null,
            "justify_content": null,
            "_view_module": "@jupyter-widgets/base",
            "overflow": null,
            "_model_module_version": "1.2.0",
            "_view_count": null,
            "flex_flow": null,
            "width": null,
            "min_width": null,
            "border": null,
            "align_items": null,
            "bottom": null,
            "_model_module": "@jupyter-widgets/base",
            "top": null,
            "grid_column": null,
            "overflow_y": null,
            "overflow_x": null,
            "grid_auto_flow": null,
            "grid_area": null,
            "grid_template_columns": null,
            "flex": null,
            "_model_name": "LayoutModel",
            "justify_items": null,
            "grid_row": null,
            "max_height": null,
            "align_content": null,
            "visibility": null,
            "align_self": null,
            "height": null,
            "min_height": null,
            "padding": null,
            "grid_auto_rows": null,
            "grid_gap": null,
            "max_width": null,
            "order": null,
            "_view_module_version": "1.2.0",
            "grid_template_areas": null,
            "object_position": null,
            "object_fit": null,
            "grid_auto_columns": null,
            "margin": null,
            "display": null,
            "left": null
          }
        },
        "cca06c710d1d4531b05f234ab42c4b2c": {
          "model_module": "@jupyter-widgets/controls",
          "model_name": "FloatProgressModel",
          "state": {
            "_view_name": "ProgressView",
            "style": "IPY_MODEL_20b2b3c032114f08943b02203f0a6027",
            "_dom_classes": [],
            "description": " 32%",
            "_model_name": "FloatProgressModel",
            "bar_style": "danger",
            "max": 25000,
            "_view_module": "@jupyter-widgets/controls",
            "_model_module_version": "1.5.0",
            "value": 7894,
            "_view_count": null,
            "_view_module_version": "1.5.0",
            "orientation": "horizontal",
            "min": 0,
            "description_tooltip": null,
            "_model_module": "@jupyter-widgets/controls",
            "layout": "IPY_MODEL_aea780fc047c47ea975f848fc4aa9629"
          }
        },
        "2f21f6d2c9054786bf046f122d987982": {
          "model_module": "@jupyter-widgets/controls",
          "model_name": "HTMLModel",
          "state": {
            "_view_name": "HTMLView",
            "style": "IPY_MODEL_ba31159baa4e414385037420b756ad78",
            "_dom_classes": [],
            "description": "",
            "_model_name": "HTMLModel",
            "placeholder": "​",
            "_view_module": "@jupyter-widgets/controls",
            "_model_module_version": "1.5.0",
            "value": " 7894/25000 [00:00&lt;00:00, 78694.10 examples/s]",
            "_view_count": null,
            "_view_module_version": "1.5.0",
            "description_tooltip": null,
            "_model_module": "@jupyter-widgets/controls",
            "layout": "IPY_MODEL_753b425e3f5c4e9d82dd09e414105e6e"
          }
        },
        "20b2b3c032114f08943b02203f0a6027": {
          "model_module": "@jupyter-widgets/controls",
          "model_name": "ProgressStyleModel",
          "state": {
            "_view_name": "StyleView",
            "_model_name": "ProgressStyleModel",
            "description_width": "initial",
            "_view_module": "@jupyter-widgets/base",
            "_model_module_version": "1.5.0",
            "_view_count": null,
            "_view_module_version": "1.2.0",
            "bar_color": null,
            "_model_module": "@jupyter-widgets/controls"
          }
        },
        "aea780fc047c47ea975f848fc4aa9629": {
          "model_module": "@jupyter-widgets/base",
          "model_name": "LayoutModel",
          "state": {
            "_view_name": "LayoutView",
            "grid_template_rows": null,
            "right": null,
            "justify_content": null,
            "_view_module": "@jupyter-widgets/base",
            "overflow": null,
            "_model_module_version": "1.2.0",
            "_view_count": null,
            "flex_flow": null,
            "width": null,
            "min_width": null,
            "border": null,
            "align_items": null,
            "bottom": null,
            "_model_module": "@jupyter-widgets/base",
            "top": null,
            "grid_column": null,
            "overflow_y": null,
            "overflow_x": null,
            "grid_auto_flow": null,
            "grid_area": null,
            "grid_template_columns": null,
            "flex": null,
            "_model_name": "LayoutModel",
            "justify_items": null,
            "grid_row": null,
            "max_height": null,
            "align_content": null,
            "visibility": null,
            "align_self": null,
            "height": null,
            "min_height": null,
            "padding": null,
            "grid_auto_rows": null,
            "grid_gap": null,
            "max_width": null,
            "order": null,
            "_view_module_version": "1.2.0",
            "grid_template_areas": null,
            "object_position": null,
            "object_fit": null,
            "grid_auto_columns": null,
            "margin": null,
            "display": null,
            "left": null
          }
        },
        "ba31159baa4e414385037420b756ad78": {
          "model_module": "@jupyter-widgets/controls",
          "model_name": "DescriptionStyleModel",
          "state": {
            "_view_name": "StyleView",
            "_model_name": "DescriptionStyleModel",
            "description_width": "",
            "_view_module": "@jupyter-widgets/base",
            "_model_module_version": "1.5.0",
            "_view_count": null,
            "_view_module_version": "1.2.0",
            "_model_module": "@jupyter-widgets/controls"
          }
        },
        "753b425e3f5c4e9d82dd09e414105e6e": {
          "model_module": "@jupyter-widgets/base",
          "model_name": "LayoutModel",
          "state": {
            "_view_name": "LayoutView",
            "grid_template_rows": null,
            "right": null,
            "justify_content": null,
            "_view_module": "@jupyter-widgets/base",
            "overflow": null,
            "_model_module_version": "1.2.0",
            "_view_count": null,
            "flex_flow": null,
            "width": null,
            "min_width": null,
            "border": null,
            "align_items": null,
            "bottom": null,
            "_model_module": "@jupyter-widgets/base",
            "top": null,
            "grid_column": null,
            "overflow_y": null,
            "overflow_x": null,
            "grid_auto_flow": null,
            "grid_area": null,
            "grid_template_columns": null,
            "flex": null,
            "_model_name": "LayoutModel",
            "justify_items": null,
            "grid_row": null,
            "max_height": null,
            "align_content": null,
            "visibility": null,
            "align_self": null,
            "height": null,
            "min_height": null,
            "padding": null,
            "grid_auto_rows": null,
            "grid_gap": null,
            "max_width": null,
            "order": null,
            "_view_module_version": "1.2.0",
            "grid_template_areas": null,
            "object_position": null,
            "object_fit": null,
            "grid_auto_columns": null,
            "margin": null,
            "display": null,
            "left": null
          }
        },
        "65335a06b7dc40d6b27e15805b68b4fe": {
          "model_module": "@jupyter-widgets/controls",
          "model_name": "HBoxModel",
          "state": {
            "_view_name": "HBoxView",
            "_dom_classes": [],
            "_model_name": "HBoxModel",
            "_view_module": "@jupyter-widgets/controls",
            "_model_module_version": "1.5.0",
            "_view_count": null,
            "_view_module_version": "1.5.0",
            "box_style": "",
            "layout": "IPY_MODEL_e2620c94822c43b1b4ccc6b949a3591f",
            "_model_module": "@jupyter-widgets/controls",
            "children": [
              "IPY_MODEL_c8b7bec4311b4ce1aa04ed7f2b33e357",
              "IPY_MODEL_1d0c8c8e0b4941d18f96f60a14b178ab"
            ]
          }
        },
        "e2620c94822c43b1b4ccc6b949a3591f": {
          "model_module": "@jupyter-widgets/base",
          "model_name": "LayoutModel",
          "state": {
            "_view_name": "LayoutView",
            "grid_template_rows": null,
            "right": null,
            "justify_content": null,
            "_view_module": "@jupyter-widgets/base",
            "overflow": null,
            "_model_module_version": "1.2.0",
            "_view_count": null,
            "flex_flow": null,
            "width": null,
            "min_width": null,
            "border": null,
            "align_items": null,
            "bottom": null,
            "_model_module": "@jupyter-widgets/base",
            "top": null,
            "grid_column": null,
            "overflow_y": null,
            "overflow_x": null,
            "grid_auto_flow": null,
            "grid_area": null,
            "grid_template_columns": null,
            "flex": null,
            "_model_name": "LayoutModel",
            "justify_items": null,
            "grid_row": null,
            "max_height": null,
            "align_content": null,
            "visibility": null,
            "align_self": null,
            "height": null,
            "min_height": null,
            "padding": null,
            "grid_auto_rows": null,
            "grid_gap": null,
            "max_width": null,
            "order": null,
            "_view_module_version": "1.2.0",
            "grid_template_areas": null,
            "object_position": null,
            "object_fit": null,
            "grid_auto_columns": null,
            "margin": null,
            "display": null,
            "left": null
          }
        },
        "c8b7bec4311b4ce1aa04ed7f2b33e357": {
          "model_module": "@jupyter-widgets/controls",
          "model_name": "FloatProgressModel",
          "state": {
            "_view_name": "ProgressView",
            "style": "IPY_MODEL_9ececd12e4d14262ba2b1343a68bbbfc",
            "_dom_classes": [],
            "description": "",
            "_model_name": "FloatProgressModel",
            "bar_style": "info",
            "max": 1,
            "_view_module": "@jupyter-widgets/controls",
            "_model_module_version": "1.5.0",
            "value": 1,
            "_view_count": null,
            "_view_module_version": "1.5.0",
            "orientation": "horizontal",
            "min": 0,
            "description_tooltip": null,
            "_model_module": "@jupyter-widgets/controls",
            "layout": "IPY_MODEL_9a51bbca49904ff9a7967e38fa17d6e6"
          }
        },
        "1d0c8c8e0b4941d18f96f60a14b178ab": {
          "model_module": "@jupyter-widgets/controls",
          "model_name": "HTMLModel",
          "state": {
            "_view_name": "HTMLView",
            "style": "IPY_MODEL_345250b4e7764fb38baa6ba7f5383167",
            "_dom_classes": [],
            "description": "",
            "_model_name": "HTMLModel",
            "placeholder": "​",
            "_view_module": "@jupyter-widgets/controls",
            "_model_module_version": "1.5.0",
            "value": " 25000/0 [00:13&lt;00:00, 3496.92 examples/s]",
            "_view_count": null,
            "_view_module_version": "1.5.0",
            "description_tooltip": null,
            "_model_module": "@jupyter-widgets/controls",
            "layout": "IPY_MODEL_c00036b893994364a426d952341870b8"
          }
        },
        "9ececd12e4d14262ba2b1343a68bbbfc": {
          "model_module": "@jupyter-widgets/controls",
          "model_name": "ProgressStyleModel",
          "state": {
            "_view_name": "StyleView",
            "_model_name": "ProgressStyleModel",
            "description_width": "initial",
            "_view_module": "@jupyter-widgets/base",
            "_model_module_version": "1.5.0",
            "_view_count": null,
            "_view_module_version": "1.2.0",
            "bar_color": null,
            "_model_module": "@jupyter-widgets/controls"
          }
        },
        "9a51bbca49904ff9a7967e38fa17d6e6": {
          "model_module": "@jupyter-widgets/base",
          "model_name": "LayoutModel",
          "state": {
            "_view_name": "LayoutView",
            "grid_template_rows": null,
            "right": null,
            "justify_content": null,
            "_view_module": "@jupyter-widgets/base",
            "overflow": null,
            "_model_module_version": "1.2.0",
            "_view_count": null,
            "flex_flow": null,
            "width": null,
            "min_width": null,
            "border": null,
            "align_items": null,
            "bottom": null,
            "_model_module": "@jupyter-widgets/base",
            "top": null,
            "grid_column": null,
            "overflow_y": null,
            "overflow_x": null,
            "grid_auto_flow": null,
            "grid_area": null,
            "grid_template_columns": null,
            "flex": null,
            "_model_name": "LayoutModel",
            "justify_items": null,
            "grid_row": null,
            "max_height": null,
            "align_content": null,
            "visibility": null,
            "align_self": null,
            "height": null,
            "min_height": null,
            "padding": null,
            "grid_auto_rows": null,
            "grid_gap": null,
            "max_width": null,
            "order": null,
            "_view_module_version": "1.2.0",
            "grid_template_areas": null,
            "object_position": null,
            "object_fit": null,
            "grid_auto_columns": null,
            "margin": null,
            "display": null,
            "left": null
          }
        },
        "345250b4e7764fb38baa6ba7f5383167": {
          "model_module": "@jupyter-widgets/controls",
          "model_name": "DescriptionStyleModel",
          "state": {
            "_view_name": "StyleView",
            "_model_name": "DescriptionStyleModel",
            "description_width": "",
            "_view_module": "@jupyter-widgets/base",
            "_model_module_version": "1.5.0",
            "_view_count": null,
            "_view_module_version": "1.2.0",
            "_model_module": "@jupyter-widgets/controls"
          }
        },
        "c00036b893994364a426d952341870b8": {
          "model_module": "@jupyter-widgets/base",
          "model_name": "LayoutModel",
          "state": {
            "_view_name": "LayoutView",
            "grid_template_rows": null,
            "right": null,
            "justify_content": null,
            "_view_module": "@jupyter-widgets/base",
            "overflow": null,
            "_model_module_version": "1.2.0",
            "_view_count": null,
            "flex_flow": null,
            "width": null,
            "min_width": null,
            "border": null,
            "align_items": null,
            "bottom": null,
            "_model_module": "@jupyter-widgets/base",
            "top": null,
            "grid_column": null,
            "overflow_y": null,
            "overflow_x": null,
            "grid_auto_flow": null,
            "grid_area": null,
            "grid_template_columns": null,
            "flex": null,
            "_model_name": "LayoutModel",
            "justify_items": null,
            "grid_row": null,
            "max_height": null,
            "align_content": null,
            "visibility": null,
            "align_self": null,
            "height": null,
            "min_height": null,
            "padding": null,
            "grid_auto_rows": null,
            "grid_gap": null,
            "max_width": null,
            "order": null,
            "_view_module_version": "1.2.0",
            "grid_template_areas": null,
            "object_position": null,
            "object_fit": null,
            "grid_auto_columns": null,
            "margin": null,
            "display": null,
            "left": null
          }
        },
        "9752d03a1b6c4e069ca2a5be727e904e": {
          "model_module": "@jupyter-widgets/controls",
          "model_name": "HBoxModel",
          "state": {
            "_view_name": "HBoxView",
            "_dom_classes": [],
            "_model_name": "HBoxModel",
            "_view_module": "@jupyter-widgets/controls",
            "_model_module_version": "1.5.0",
            "_view_count": null,
            "_view_module_version": "1.5.0",
            "box_style": "",
            "layout": "IPY_MODEL_0d55feb7dc4949c9b78098ef85fff404",
            "_model_module": "@jupyter-widgets/controls",
            "children": [
              "IPY_MODEL_09dd263463094c2ebb5528a12e15b26d",
              "IPY_MODEL_3547e7060d0749fea5a419fc1c0281a0"
            ]
          }
        },
        "0d55feb7dc4949c9b78098ef85fff404": {
          "model_module": "@jupyter-widgets/base",
          "model_name": "LayoutModel",
          "state": {
            "_view_name": "LayoutView",
            "grid_template_rows": null,
            "right": null,
            "justify_content": null,
            "_view_module": "@jupyter-widgets/base",
            "overflow": null,
            "_model_module_version": "1.2.0",
            "_view_count": null,
            "flex_flow": null,
            "width": null,
            "min_width": null,
            "border": null,
            "align_items": null,
            "bottom": null,
            "_model_module": "@jupyter-widgets/base",
            "top": null,
            "grid_column": null,
            "overflow_y": null,
            "overflow_x": null,
            "grid_auto_flow": null,
            "grid_area": null,
            "grid_template_columns": null,
            "flex": null,
            "_model_name": "LayoutModel",
            "justify_items": null,
            "grid_row": null,
            "max_height": null,
            "align_content": null,
            "visibility": null,
            "align_self": null,
            "height": null,
            "min_height": null,
            "padding": null,
            "grid_auto_rows": null,
            "grid_gap": null,
            "max_width": null,
            "order": null,
            "_view_module_version": "1.2.0",
            "grid_template_areas": null,
            "object_position": null,
            "object_fit": null,
            "grid_auto_columns": null,
            "margin": null,
            "display": null,
            "left": null
          }
        },
        "09dd263463094c2ebb5528a12e15b26d": {
          "model_module": "@jupyter-widgets/controls",
          "model_name": "FloatProgressModel",
          "state": {
            "_view_name": "ProgressView",
            "style": "IPY_MODEL_be8ded8d118e479d9de9b0f8fbdf3745",
            "_dom_classes": [],
            "description": " 41%",
            "_model_name": "FloatProgressModel",
            "bar_style": "danger",
            "max": 25000,
            "_view_module": "@jupyter-widgets/controls",
            "_model_module_version": "1.5.0",
            "value": 10353,
            "_view_count": null,
            "_view_module_version": "1.5.0",
            "orientation": "horizontal",
            "min": 0,
            "description_tooltip": null,
            "_model_module": "@jupyter-widgets/controls",
            "layout": "IPY_MODEL_f293da7b78514c58afbcc1bef00ebcef"
          }
        },
        "3547e7060d0749fea5a419fc1c0281a0": {
          "model_module": "@jupyter-widgets/controls",
          "model_name": "HTMLModel",
          "state": {
            "_view_name": "HTMLView",
            "style": "IPY_MODEL_3c324d0610a7412ba909cafafde71985",
            "_dom_classes": [],
            "description": "",
            "_model_name": "HTMLModel",
            "placeholder": "​",
            "_view_module": "@jupyter-widgets/controls",
            "_model_module_version": "1.5.0",
            "value": " 10353/25000 [00:00&lt;00:00, 103524.92 examples/s]",
            "_view_count": null,
            "_view_module_version": "1.5.0",
            "description_tooltip": null,
            "_model_module": "@jupyter-widgets/controls",
            "layout": "IPY_MODEL_d288e853be524e88945103f35c457cce"
          }
        },
        "be8ded8d118e479d9de9b0f8fbdf3745": {
          "model_module": "@jupyter-widgets/controls",
          "model_name": "ProgressStyleModel",
          "state": {
            "_view_name": "StyleView",
            "_model_name": "ProgressStyleModel",
            "description_width": "initial",
            "_view_module": "@jupyter-widgets/base",
            "_model_module_version": "1.5.0",
            "_view_count": null,
            "_view_module_version": "1.2.0",
            "bar_color": null,
            "_model_module": "@jupyter-widgets/controls"
          }
        },
        "f293da7b78514c58afbcc1bef00ebcef": {
          "model_module": "@jupyter-widgets/base",
          "model_name": "LayoutModel",
          "state": {
            "_view_name": "LayoutView",
            "grid_template_rows": null,
            "right": null,
            "justify_content": null,
            "_view_module": "@jupyter-widgets/base",
            "overflow": null,
            "_model_module_version": "1.2.0",
            "_view_count": null,
            "flex_flow": null,
            "width": null,
            "min_width": null,
            "border": null,
            "align_items": null,
            "bottom": null,
            "_model_module": "@jupyter-widgets/base",
            "top": null,
            "grid_column": null,
            "overflow_y": null,
            "overflow_x": null,
            "grid_auto_flow": null,
            "grid_area": null,
            "grid_template_columns": null,
            "flex": null,
            "_model_name": "LayoutModel",
            "justify_items": null,
            "grid_row": null,
            "max_height": null,
            "align_content": null,
            "visibility": null,
            "align_self": null,
            "height": null,
            "min_height": null,
            "padding": null,
            "grid_auto_rows": null,
            "grid_gap": null,
            "max_width": null,
            "order": null,
            "_view_module_version": "1.2.0",
            "grid_template_areas": null,
            "object_position": null,
            "object_fit": null,
            "grid_auto_columns": null,
            "margin": null,
            "display": null,
            "left": null
          }
        },
        "3c324d0610a7412ba909cafafde71985": {
          "model_module": "@jupyter-widgets/controls",
          "model_name": "DescriptionStyleModel",
          "state": {
            "_view_name": "StyleView",
            "_model_name": "DescriptionStyleModel",
            "description_width": "",
            "_view_module": "@jupyter-widgets/base",
            "_model_module_version": "1.5.0",
            "_view_count": null,
            "_view_module_version": "1.2.0",
            "_model_module": "@jupyter-widgets/controls"
          }
        },
        "d288e853be524e88945103f35c457cce": {
          "model_module": "@jupyter-widgets/base",
          "model_name": "LayoutModel",
          "state": {
            "_view_name": "LayoutView",
            "grid_template_rows": null,
            "right": null,
            "justify_content": null,
            "_view_module": "@jupyter-widgets/base",
            "overflow": null,
            "_model_module_version": "1.2.0",
            "_view_count": null,
            "flex_flow": null,
            "width": null,
            "min_width": null,
            "border": null,
            "align_items": null,
            "bottom": null,
            "_model_module": "@jupyter-widgets/base",
            "top": null,
            "grid_column": null,
            "overflow_y": null,
            "overflow_x": null,
            "grid_auto_flow": null,
            "grid_area": null,
            "grid_template_columns": null,
            "flex": null,
            "_model_name": "LayoutModel",
            "justify_items": null,
            "grid_row": null,
            "max_height": null,
            "align_content": null,
            "visibility": null,
            "align_self": null,
            "height": null,
            "min_height": null,
            "padding": null,
            "grid_auto_rows": null,
            "grid_gap": null,
            "max_width": null,
            "order": null,
            "_view_module_version": "1.2.0",
            "grid_template_areas": null,
            "object_position": null,
            "object_fit": null,
            "grid_auto_columns": null,
            "margin": null,
            "display": null,
            "left": null
          }
        },
        "0558a4ab71174165b707ec2a7e10d1f5": {
          "model_module": "@jupyter-widgets/controls",
          "model_name": "HBoxModel",
          "state": {
            "_view_name": "HBoxView",
            "_dom_classes": [],
            "_model_name": "HBoxModel",
            "_view_module": "@jupyter-widgets/controls",
            "_model_module_version": "1.5.0",
            "_view_count": null,
            "_view_module_version": "1.5.0",
            "box_style": "",
            "layout": "IPY_MODEL_79402d9839fb46298c4b9fd122901e7c",
            "_model_module": "@jupyter-widgets/controls",
            "children": [
              "IPY_MODEL_7e2456dc6d994c79bdfe0724f09f617b",
              "IPY_MODEL_8da42f8796f541a09abaa7cbe65b2c74"
            ]
          }
        },
        "79402d9839fb46298c4b9fd122901e7c": {
          "model_module": "@jupyter-widgets/base",
          "model_name": "LayoutModel",
          "state": {
            "_view_name": "LayoutView",
            "grid_template_rows": null,
            "right": null,
            "justify_content": null,
            "_view_module": "@jupyter-widgets/base",
            "overflow": null,
            "_model_module_version": "1.2.0",
            "_view_count": null,
            "flex_flow": null,
            "width": null,
            "min_width": null,
            "border": null,
            "align_items": null,
            "bottom": null,
            "_model_module": "@jupyter-widgets/base",
            "top": null,
            "grid_column": null,
            "overflow_y": null,
            "overflow_x": null,
            "grid_auto_flow": null,
            "grid_area": null,
            "grid_template_columns": null,
            "flex": null,
            "_model_name": "LayoutModel",
            "justify_items": null,
            "grid_row": null,
            "max_height": null,
            "align_content": null,
            "visibility": null,
            "align_self": null,
            "height": null,
            "min_height": null,
            "padding": null,
            "grid_auto_rows": null,
            "grid_gap": null,
            "max_width": null,
            "order": null,
            "_view_module_version": "1.2.0",
            "grid_template_areas": null,
            "object_position": null,
            "object_fit": null,
            "grid_auto_columns": null,
            "margin": null,
            "display": null,
            "left": null
          }
        },
        "7e2456dc6d994c79bdfe0724f09f617b": {
          "model_module": "@jupyter-widgets/controls",
          "model_name": "FloatProgressModel",
          "state": {
            "_view_name": "ProgressView",
            "style": "IPY_MODEL_98bf729c8f284ad783e83f83867637a2",
            "_dom_classes": [],
            "description": "",
            "_model_name": "FloatProgressModel",
            "bar_style": "info",
            "max": 1,
            "_view_module": "@jupyter-widgets/controls",
            "_model_module_version": "1.5.0",
            "value": 1,
            "_view_count": null,
            "_view_module_version": "1.5.0",
            "orientation": "horizontal",
            "min": 0,
            "description_tooltip": null,
            "_model_module": "@jupyter-widgets/controls",
            "layout": "IPY_MODEL_97619fa2329c49448bc8994569cadbe1"
          }
        },
        "8da42f8796f541a09abaa7cbe65b2c74": {
          "model_module": "@jupyter-widgets/controls",
          "model_name": "HTMLModel",
          "state": {
            "_view_name": "HTMLView",
            "style": "IPY_MODEL_e392522ab45d4af4b252f449a195e30e",
            "_dom_classes": [],
            "description": "",
            "_model_name": "HTMLModel",
            "placeholder": "​",
            "_view_module": "@jupyter-widgets/controls",
            "_model_module_version": "1.5.0",
            "value": " 50000/0 [00:18&lt;00:00, 3550.93 examples/s]",
            "_view_count": null,
            "_view_module_version": "1.5.0",
            "description_tooltip": null,
            "_model_module": "@jupyter-widgets/controls",
            "layout": "IPY_MODEL_ef920aae91894e3abc3fa05f71890e82"
          }
        },
        "98bf729c8f284ad783e83f83867637a2": {
          "model_module": "@jupyter-widgets/controls",
          "model_name": "ProgressStyleModel",
          "state": {
            "_view_name": "StyleView",
            "_model_name": "ProgressStyleModel",
            "description_width": "initial",
            "_view_module": "@jupyter-widgets/base",
            "_model_module_version": "1.5.0",
            "_view_count": null,
            "_view_module_version": "1.2.0",
            "bar_color": null,
            "_model_module": "@jupyter-widgets/controls"
          }
        },
        "97619fa2329c49448bc8994569cadbe1": {
          "model_module": "@jupyter-widgets/base",
          "model_name": "LayoutModel",
          "state": {
            "_view_name": "LayoutView",
            "grid_template_rows": null,
            "right": null,
            "justify_content": null,
            "_view_module": "@jupyter-widgets/base",
            "overflow": null,
            "_model_module_version": "1.2.0",
            "_view_count": null,
            "flex_flow": null,
            "width": null,
            "min_width": null,
            "border": null,
            "align_items": null,
            "bottom": null,
            "_model_module": "@jupyter-widgets/base",
            "top": null,
            "grid_column": null,
            "overflow_y": null,
            "overflow_x": null,
            "grid_auto_flow": null,
            "grid_area": null,
            "grid_template_columns": null,
            "flex": null,
            "_model_name": "LayoutModel",
            "justify_items": null,
            "grid_row": null,
            "max_height": null,
            "align_content": null,
            "visibility": null,
            "align_self": null,
            "height": null,
            "min_height": null,
            "padding": null,
            "grid_auto_rows": null,
            "grid_gap": null,
            "max_width": null,
            "order": null,
            "_view_module_version": "1.2.0",
            "grid_template_areas": null,
            "object_position": null,
            "object_fit": null,
            "grid_auto_columns": null,
            "margin": null,
            "display": null,
            "left": null
          }
        },
        "e392522ab45d4af4b252f449a195e30e": {
          "model_module": "@jupyter-widgets/controls",
          "model_name": "DescriptionStyleModel",
          "state": {
            "_view_name": "StyleView",
            "_model_name": "DescriptionStyleModel",
            "description_width": "",
            "_view_module": "@jupyter-widgets/base",
            "_model_module_version": "1.5.0",
            "_view_count": null,
            "_view_module_version": "1.2.0",
            "_model_module": "@jupyter-widgets/controls"
          }
        },
        "ef920aae91894e3abc3fa05f71890e82": {
          "model_module": "@jupyter-widgets/base",
          "model_name": "LayoutModel",
          "state": {
            "_view_name": "LayoutView",
            "grid_template_rows": null,
            "right": null,
            "justify_content": null,
            "_view_module": "@jupyter-widgets/base",
            "overflow": null,
            "_model_module_version": "1.2.0",
            "_view_count": null,
            "flex_flow": null,
            "width": null,
            "min_width": null,
            "border": null,
            "align_items": null,
            "bottom": null,
            "_model_module": "@jupyter-widgets/base",
            "top": null,
            "grid_column": null,
            "overflow_y": null,
            "overflow_x": null,
            "grid_auto_flow": null,
            "grid_area": null,
            "grid_template_columns": null,
            "flex": null,
            "_model_name": "LayoutModel",
            "justify_items": null,
            "grid_row": null,
            "max_height": null,
            "align_content": null,
            "visibility": null,
            "align_self": null,
            "height": null,
            "min_height": null,
            "padding": null,
            "grid_auto_rows": null,
            "grid_gap": null,
            "max_width": null,
            "order": null,
            "_view_module_version": "1.2.0",
            "grid_template_areas": null,
            "object_position": null,
            "object_fit": null,
            "grid_auto_columns": null,
            "margin": null,
            "display": null,
            "left": null
          }
        },
        "f915896d91414f51b21c7dcb3fb1097b": {
          "model_module": "@jupyter-widgets/controls",
          "model_name": "HBoxModel",
          "state": {
            "_view_name": "HBoxView",
            "_dom_classes": [],
            "_model_name": "HBoxModel",
            "_view_module": "@jupyter-widgets/controls",
            "_model_module_version": "1.5.0",
            "_view_count": null,
            "_view_module_version": "1.5.0",
            "box_style": "",
            "layout": "IPY_MODEL_6ef1312ddc4f417497989f102cb38bfa",
            "_model_module": "@jupyter-widgets/controls",
            "children": [
              "IPY_MODEL_53c01d863a0b45998b51c78cef57d5de",
              "IPY_MODEL_fc1e4c336db74491a1b20a074ce2b394"
            ]
          }
        },
        "6ef1312ddc4f417497989f102cb38bfa": {
          "model_module": "@jupyter-widgets/base",
          "model_name": "LayoutModel",
          "state": {
            "_view_name": "LayoutView",
            "grid_template_rows": null,
            "right": null,
            "justify_content": null,
            "_view_module": "@jupyter-widgets/base",
            "overflow": null,
            "_model_module_version": "1.2.0",
            "_view_count": null,
            "flex_flow": null,
            "width": null,
            "min_width": null,
            "border": null,
            "align_items": null,
            "bottom": null,
            "_model_module": "@jupyter-widgets/base",
            "top": null,
            "grid_column": null,
            "overflow_y": null,
            "overflow_x": null,
            "grid_auto_flow": null,
            "grid_area": null,
            "grid_template_columns": null,
            "flex": null,
            "_model_name": "LayoutModel",
            "justify_items": null,
            "grid_row": null,
            "max_height": null,
            "align_content": null,
            "visibility": null,
            "align_self": null,
            "height": null,
            "min_height": null,
            "padding": null,
            "grid_auto_rows": null,
            "grid_gap": null,
            "max_width": null,
            "order": null,
            "_view_module_version": "1.2.0",
            "grid_template_areas": null,
            "object_position": null,
            "object_fit": null,
            "grid_auto_columns": null,
            "margin": null,
            "display": null,
            "left": null
          }
        },
        "53c01d863a0b45998b51c78cef57d5de": {
          "model_module": "@jupyter-widgets/controls",
          "model_name": "FloatProgressModel",
          "state": {
            "_view_name": "ProgressView",
            "style": "IPY_MODEL_42e35940cec246d6b5926a3e458f5c14",
            "_dom_classes": [],
            "description": " 86%",
            "_model_name": "FloatProgressModel",
            "bar_style": "danger",
            "max": 50000,
            "_view_module": "@jupyter-widgets/controls",
            "_model_module_version": "1.5.0",
            "value": 43225,
            "_view_count": null,
            "_view_module_version": "1.5.0",
            "orientation": "horizontal",
            "min": 0,
            "description_tooltip": null,
            "_model_module": "@jupyter-widgets/controls",
            "layout": "IPY_MODEL_2e8921d70ede4e0eba138836c78c43ab"
          }
        },
        "fc1e4c336db74491a1b20a074ce2b394": {
          "model_module": "@jupyter-widgets/controls",
          "model_name": "HTMLModel",
          "state": {
            "_view_name": "HTMLView",
            "style": "IPY_MODEL_9a015f44db5843d9be046b24af5e719c",
            "_dom_classes": [],
            "description": "",
            "_model_name": "HTMLModel",
            "placeholder": "​",
            "_view_module": "@jupyter-widgets/controls",
            "_model_module_version": "1.5.0",
            "value": " 43225/50000 [00:00&lt;00:00, 31955.84 examples/s]",
            "_view_count": null,
            "_view_module_version": "1.5.0",
            "description_tooltip": null,
            "_model_module": "@jupyter-widgets/controls",
            "layout": "IPY_MODEL_9059cff519cf4ed3ae1cab707c81c42d"
          }
        },
        "42e35940cec246d6b5926a3e458f5c14": {
          "model_module": "@jupyter-widgets/controls",
          "model_name": "ProgressStyleModel",
          "state": {
            "_view_name": "StyleView",
            "_model_name": "ProgressStyleModel",
            "description_width": "initial",
            "_view_module": "@jupyter-widgets/base",
            "_model_module_version": "1.5.0",
            "_view_count": null,
            "_view_module_version": "1.2.0",
            "bar_color": null,
            "_model_module": "@jupyter-widgets/controls"
          }
        },
        "2e8921d70ede4e0eba138836c78c43ab": {
          "model_module": "@jupyter-widgets/base",
          "model_name": "LayoutModel",
          "state": {
            "_view_name": "LayoutView",
            "grid_template_rows": null,
            "right": null,
            "justify_content": null,
            "_view_module": "@jupyter-widgets/base",
            "overflow": null,
            "_model_module_version": "1.2.0",
            "_view_count": null,
            "flex_flow": null,
            "width": null,
            "min_width": null,
            "border": null,
            "align_items": null,
            "bottom": null,
            "_model_module": "@jupyter-widgets/base",
            "top": null,
            "grid_column": null,
            "overflow_y": null,
            "overflow_x": null,
            "grid_auto_flow": null,
            "grid_area": null,
            "grid_template_columns": null,
            "flex": null,
            "_model_name": "LayoutModel",
            "justify_items": null,
            "grid_row": null,
            "max_height": null,
            "align_content": null,
            "visibility": null,
            "align_self": null,
            "height": null,
            "min_height": null,
            "padding": null,
            "grid_auto_rows": null,
            "grid_gap": null,
            "max_width": null,
            "order": null,
            "_view_module_version": "1.2.0",
            "grid_template_areas": null,
            "object_position": null,
            "object_fit": null,
            "grid_auto_columns": null,
            "margin": null,
            "display": null,
            "left": null
          }
        },
        "9a015f44db5843d9be046b24af5e719c": {
          "model_module": "@jupyter-widgets/controls",
          "model_name": "DescriptionStyleModel",
          "state": {
            "_view_name": "StyleView",
            "_model_name": "DescriptionStyleModel",
            "description_width": "",
            "_view_module": "@jupyter-widgets/base",
            "_model_module_version": "1.5.0",
            "_view_count": null,
            "_view_module_version": "1.2.0",
            "_model_module": "@jupyter-widgets/controls"
          }
        },
        "9059cff519cf4ed3ae1cab707c81c42d": {
          "model_module": "@jupyter-widgets/base",
          "model_name": "LayoutModel",
          "state": {
            "_view_name": "LayoutView",
            "grid_template_rows": null,
            "right": null,
            "justify_content": null,
            "_view_module": "@jupyter-widgets/base",
            "overflow": null,
            "_model_module_version": "1.2.0",
            "_view_count": null,
            "flex_flow": null,
            "width": null,
            "min_width": null,
            "border": null,
            "align_items": null,
            "bottom": null,
            "_model_module": "@jupyter-widgets/base",
            "top": null,
            "grid_column": null,
            "overflow_y": null,
            "overflow_x": null,
            "grid_auto_flow": null,
            "grid_area": null,
            "grid_template_columns": null,
            "flex": null,
            "_model_name": "LayoutModel",
            "justify_items": null,
            "grid_row": null,
            "max_height": null,
            "align_content": null,
            "visibility": null,
            "align_self": null,
            "height": null,
            "min_height": null,
            "padding": null,
            "grid_auto_rows": null,
            "grid_gap": null,
            "max_width": null,
            "order": null,
            "_view_module_version": "1.2.0",
            "grid_template_areas": null,
            "object_position": null,
            "object_fit": null,
            "grid_auto_columns": null,
            "margin": null,
            "display": null,
            "left": null
          }
        }
      }
    }
  },
  "cells": [
    {
      "cell_type": "markdown",
      "metadata": {
        "id": "view-in-github",
        "colab_type": "text"
      },
      "source": [
        "<a href=\"https://colab.research.google.com/github/spsagar13/Natural-Language-Processing/blob/main/IMDB_3_models_evaluation_GRU_LSTM_and_Conv1d.ipynb\" target=\"_parent\"><img src=\"https://colab.research.google.com/assets/colab-badge.svg\" alt=\"Open In Colab\"/></a>"
      ]
    },
    {
      "cell_type": "code",
      "metadata": {
        "id": "P-AhVYeBWgQ3",
        "colab": {
          "base_uri": "https://localhost:8080/"
        },
        "outputId": "72331dcb-a28d-4ea6-a745-9f00d6c0caa6"
      },
      "source": [
        "import tensorflow as tf\n",
        "print(tf.__version__)\n",
        "\n",
        "# !pip install -q tensorflow-datasets"
      ],
      "execution_count": null,
      "outputs": [
        {
          "output_type": "stream",
          "text": [
            "2.4.1\n"
          ],
          "name": "stdout"
        }
      ]
    },
    {
      "cell_type": "code",
      "metadata": {
        "id": "_IoM4VFxWpMR",
        "colab": {
          "base_uri": "https://localhost:8080/",
          "height": 367,
          "referenced_widgets": [
            "b1f363e1ec2844b8bd4fb8bd482c0541",
            "61a303eb759a4d908dd66d38de9c9c84",
            "cb563cc169f24e9ea2e1f41ab35b8989",
            "193a95efd75947af883e68ccc199826a",
            "151a95584a2a4619ace68da82d2c687f",
            "8837396832e244ebb6bbb72c96bf2142",
            "8a71c73b63ce4073bece63f6d19df529",
            "119e2e6d3f87499f9d9f9a4cc2db90c9",
            "9c282e5bedf74d6a9e98269c75276322",
            "b4833c4b9c1d420a80997063e3d17568",
            "92922c1dc17742bd82a4e7d47283b5bf",
            "61fb5c560789492cad8ccb7165e63666",
            "0a703e92039f4080b3bc83377c683a46",
            "ff6086bda50e4eecb873fb673c5510df",
            "4767d5c7787d443bb110420a4644dbea",
            "99615696d2944b679ec4b7b3eaa1c9f0",
            "628ab29d83c04b77baf8ef073005234c",
            "740baac27c1f48a38765f5c90cda179b",
            "0307bdf819a5401a9b593cb1360cffc2",
            "86c13279ac8b4466bce7f4f046460cf7",
            "2762a26d79cb4c349ae6e4ba35003a72",
            "70c9e69e6fac4439acef9fa484d8eb01",
            "ba1931c3cbde40b99a63130e3c16a986",
            "851584918ba74e518f0eedb5ea7e7a6b",
            "c72a2f1142224065bee29c86deae8194",
            "36fa9aa752e84daeb329a1e0aefafb6a",
            "cca06c710d1d4531b05f234ab42c4b2c",
            "2f21f6d2c9054786bf046f122d987982",
            "20b2b3c032114f08943b02203f0a6027",
            "aea780fc047c47ea975f848fc4aa9629",
            "ba31159baa4e414385037420b756ad78",
            "753b425e3f5c4e9d82dd09e414105e6e",
            "65335a06b7dc40d6b27e15805b68b4fe",
            "e2620c94822c43b1b4ccc6b949a3591f",
            "c8b7bec4311b4ce1aa04ed7f2b33e357",
            "1d0c8c8e0b4941d18f96f60a14b178ab",
            "9ececd12e4d14262ba2b1343a68bbbfc",
            "9a51bbca49904ff9a7967e38fa17d6e6",
            "345250b4e7764fb38baa6ba7f5383167",
            "c00036b893994364a426d952341870b8",
            "9752d03a1b6c4e069ca2a5be727e904e",
            "0d55feb7dc4949c9b78098ef85fff404",
            "09dd263463094c2ebb5528a12e15b26d",
            "3547e7060d0749fea5a419fc1c0281a0",
            "be8ded8d118e479d9de9b0f8fbdf3745",
            "f293da7b78514c58afbcc1bef00ebcef",
            "3c324d0610a7412ba909cafafde71985",
            "d288e853be524e88945103f35c457cce",
            "0558a4ab71174165b707ec2a7e10d1f5",
            "79402d9839fb46298c4b9fd122901e7c",
            "7e2456dc6d994c79bdfe0724f09f617b",
            "8da42f8796f541a09abaa7cbe65b2c74",
            "98bf729c8f284ad783e83f83867637a2",
            "97619fa2329c49448bc8994569cadbe1",
            "e392522ab45d4af4b252f449a195e30e",
            "ef920aae91894e3abc3fa05f71890e82",
            "f915896d91414f51b21c7dcb3fb1097b",
            "6ef1312ddc4f417497989f102cb38bfa",
            "53c01d863a0b45998b51c78cef57d5de",
            "fc1e4c336db74491a1b20a074ce2b394",
            "42e35940cec246d6b5926a3e458f5c14",
            "2e8921d70ede4e0eba138836c78c43ab",
            "9a015f44db5843d9be046b24af5e719c",
            "9059cff519cf4ed3ae1cab707c81c42d"
          ]
        },
        "outputId": "544cd1a5-4fcc-4d9d-84bc-d4eb316ad90b"
      },
      "source": [
        "import tensorflow_datasets as tfds\n",
        "imdb, info = tfds.load(\"imdb_reviews\", with_info=True, as_supervised=True)\n"
      ],
      "execution_count": null,
      "outputs": [
        {
          "output_type": "stream",
          "text": [
            "\u001b[1mDownloading and preparing dataset imdb_reviews/plain_text/1.0.0 (download: 80.23 MiB, generated: Unknown size, total: 80.23 MiB) to /root/tensorflow_datasets/imdb_reviews/plain_text/1.0.0...\u001b[0m\n"
          ],
          "name": "stdout"
        },
        {
          "output_type": "display_data",
          "data": {
            "application/vnd.jupyter.widget-view+json": {
              "model_id": "b1f363e1ec2844b8bd4fb8bd482c0541",
              "version_minor": 0,
              "version_major": 2
            },
            "text/plain": [
              "HBox(children=(FloatProgress(value=1.0, bar_style='info', description='Dl Completed...', max=1.0, style=Progre…"
            ]
          },
          "metadata": {
            "tags": []
          }
        },
        {
          "output_type": "display_data",
          "data": {
            "application/vnd.jupyter.widget-view+json": {
              "model_id": "9c282e5bedf74d6a9e98269c75276322",
              "version_minor": 0,
              "version_major": 2
            },
            "text/plain": [
              "HBox(children=(FloatProgress(value=1.0, bar_style='info', description='Dl Size...', max=1.0, style=ProgressSty…"
            ]
          },
          "metadata": {
            "tags": []
          }
        },
        {
          "output_type": "stream",
          "text": [
            "\n",
            "\n",
            "\n",
            "\n"
          ],
          "name": "stdout"
        },
        {
          "output_type": "display_data",
          "data": {
            "application/vnd.jupyter.widget-view+json": {
              "model_id": "628ab29d83c04b77baf8ef073005234c",
              "version_minor": 0,
              "version_major": 2
            },
            "text/plain": [
              "HBox(children=(FloatProgress(value=1.0, bar_style='info', max=1.0), HTML(value='')))"
            ]
          },
          "metadata": {
            "tags": []
          }
        },
        {
          "output_type": "stream",
          "text": [
            "\rShuffling and writing examples to /root/tensorflow_datasets/imdb_reviews/plain_text/1.0.0.incompleteGCW24W/imdb_reviews-train.tfrecord\n"
          ],
          "name": "stdout"
        },
        {
          "output_type": "display_data",
          "data": {
            "application/vnd.jupyter.widget-view+json": {
              "model_id": "c72a2f1142224065bee29c86deae8194",
              "version_minor": 0,
              "version_major": 2
            },
            "text/plain": [
              "HBox(children=(FloatProgress(value=0.0, max=25000.0), HTML(value='')))"
            ]
          },
          "metadata": {
            "tags": []
          }
        },
        {
          "output_type": "stream",
          "text": [
            "\r"
          ],
          "name": "stdout"
        },
        {
          "output_type": "display_data",
          "data": {
            "application/vnd.jupyter.widget-view+json": {
              "model_id": "65335a06b7dc40d6b27e15805b68b4fe",
              "version_minor": 0,
              "version_major": 2
            },
            "text/plain": [
              "HBox(children=(FloatProgress(value=1.0, bar_style='info', max=1.0), HTML(value='')))"
            ]
          },
          "metadata": {
            "tags": []
          }
        },
        {
          "output_type": "stream",
          "text": [
            "\rShuffling and writing examples to /root/tensorflow_datasets/imdb_reviews/plain_text/1.0.0.incompleteGCW24W/imdb_reviews-test.tfrecord\n"
          ],
          "name": "stdout"
        },
        {
          "output_type": "display_data",
          "data": {
            "application/vnd.jupyter.widget-view+json": {
              "model_id": "9752d03a1b6c4e069ca2a5be727e904e",
              "version_minor": 0,
              "version_major": 2
            },
            "text/plain": [
              "HBox(children=(FloatProgress(value=0.0, max=25000.0), HTML(value='')))"
            ]
          },
          "metadata": {
            "tags": []
          }
        },
        {
          "output_type": "stream",
          "text": [
            "\r"
          ],
          "name": "stdout"
        },
        {
          "output_type": "display_data",
          "data": {
            "application/vnd.jupyter.widget-view+json": {
              "model_id": "0558a4ab71174165b707ec2a7e10d1f5",
              "version_minor": 0,
              "version_major": 2
            },
            "text/plain": [
              "HBox(children=(FloatProgress(value=1.0, bar_style='info', max=1.0), HTML(value='')))"
            ]
          },
          "metadata": {
            "tags": []
          }
        },
        {
          "output_type": "stream",
          "text": [
            "\rShuffling and writing examples to /root/tensorflow_datasets/imdb_reviews/plain_text/1.0.0.incompleteGCW24W/imdb_reviews-unsupervised.tfrecord\n"
          ],
          "name": "stdout"
        },
        {
          "output_type": "display_data",
          "data": {
            "application/vnd.jupyter.widget-view+json": {
              "model_id": "f915896d91414f51b21c7dcb3fb1097b",
              "version_minor": 0,
              "version_major": 2
            },
            "text/plain": [
              "HBox(children=(FloatProgress(value=0.0, max=50000.0), HTML(value='')))"
            ]
          },
          "metadata": {
            "tags": []
          }
        },
        {
          "output_type": "stream",
          "text": [
            "WARNING:absl:Dataset is using deprecated text encoder API which will be removed soon. Please use the plain_text version of the dataset and migrate to `tensorflow_text`.\n"
          ],
          "name": "stderr"
        },
        {
          "output_type": "stream",
          "text": [
            "\u001b[1mDataset imdb_reviews downloaded and prepared to /root/tensorflow_datasets/imdb_reviews/plain_text/1.0.0. Subsequent calls will reuse this data.\u001b[0m\n",
            "\r"
          ],
          "name": "stdout"
        }
      ]
    },
    {
      "cell_type": "code",
      "metadata": {
        "id": "wHQ2Ko0zl7M4"
      },
      "source": [
        "import numpy as np\n",
        "\n",
        "train_data, test_data = imdb['train'], imdb['test']\n",
        "\n",
        "training_sentences = []\n",
        "training_labels = []\n",
        "\n",
        "testing_sentences = []\n",
        "testing_labels = []\n",
        "\n",
        "# str(s.tonumpy()) is needed in Python3 instead of just s.numpy()\n",
        "for s,l in train_data:\n",
        "  training_sentences.append(str(s.numpy()))\n",
        "  training_labels.append(l.numpy())\n",
        "  \n",
        "for s,l in test_data:\n",
        "  testing_sentences.append(str(s.numpy()))\n",
        "  testing_labels.append(l.numpy())\n",
        "  \n",
        "training_labels_final = np.array(training_labels)\n",
        "testing_labels_final = np.array(testing_labels)\n"
      ],
      "execution_count": null,
      "outputs": []
    },
    {
      "cell_type": "code",
      "metadata": {
        "id": "7n15yyMdmoH1"
      },
      "source": [
        "vocab_size = 10000\n",
        "embedding_dim = 16\n",
        "max_length = 120\n",
        "trunc_type='post'\n",
        "oov_tok = \"<OOV>\"\n",
        "\n",
        "\n",
        "from tensorflow.keras.preprocessing.text import Tokenizer\n",
        "from tensorflow.keras.preprocessing.sequence import pad_sequences\n",
        "\n",
        "tokenizer = Tokenizer(num_words = vocab_size, oov_token=oov_tok)\n",
        "tokenizer.fit_on_texts(training_sentences)\n",
        "word_index = tokenizer.word_index\n",
        "sequences = tokenizer.texts_to_sequences(training_sentences)\n",
        "padded = pad_sequences(sequences,maxlen=max_length, truncating=trunc_type)\n",
        "\n",
        "testing_sequences = tokenizer.texts_to_sequences(testing_sentences)\n",
        "testing_padded = pad_sequences(testing_sequences,maxlen=max_length)\n"
      ],
      "execution_count": null,
      "outputs": []
    },
    {
      "cell_type": "code",
      "metadata": {
        "id": "9axf0uIXVMhO",
        "colab": {
          "base_uri": "https://localhost:8080/"
        },
        "outputId": "381d238b-4568-43e7-8ce8-c32ce26c16d9"
      },
      "source": [
        "reverse_word_index = dict([(value, key) for (key, value) in word_index.items()])\n",
        "\n",
        "def decode_review(text):\n",
        "    return ' '.join([reverse_word_index.get(i, '?') for i in text])\n",
        "\n",
        "print(decode_review(padded[1]))\n",
        "print(training_sentences[1])"
      ],
      "execution_count": null,
      "outputs": [
        {
          "output_type": "stream",
          "text": [
            "? ? ? ? ? ? ? b'i have been known to fall asleep during films but this is usually due to a combination of things including really tired being warm and comfortable on the <OOV> and having just eaten a lot however on this occasion i fell asleep because the film was rubbish the plot development was constant constantly slow and boring things seemed to happen but with no explanation of what was causing them or why i admit i may have missed part of the film but i watched the majority of it and everything just seemed to happen of its own <OOV> without any real concern for anything else i cant recommend this film at all '\n",
            "b'I have been known to fall asleep during films, but this is usually due to a combination of things including, really tired, being warm and comfortable on the sette and having just eaten a lot. However on this occasion I fell asleep because the film was rubbish. The plot development was constant. Constantly slow and boring. Things seemed to happen, but with no explanation of what was causing them or why. I admit, I may have missed part of the film, but i watched the majority of it and everything just seemed to happen of its own accord without any real concern for anything else. I cant recommend this film at all.'\n"
          ],
          "name": "stdout"
        }
      ]
    },
    {
      "cell_type": "code",
      "metadata": {
        "id": "5NEpdhb8AxID",
        "colab": {
          "base_uri": "https://localhost:8080/"
        },
        "outputId": "5a2a1e22-2937-4d53-e665-ec26c09c1f4d"
      },
      "source": [
        "# Model Definition with GRU\n",
        "model = tf.keras.Sequential([\n",
        "    tf.keras.layers.Embedding(vocab_size, embedding_dim, input_length=max_length),\n",
        "    tf.keras.layers.Bidirectional(tf.keras.layers.GRU(32)),\n",
        "    tf.keras.layers.Dense(6, activation='relu'),\n",
        "    tf.keras.layers.Dense(1, activation='sigmoid')\n",
        "])\n",
        "model.compile(loss='binary_crossentropy',optimizer='adam',metrics=['accuracy'])\n",
        "model.summary()\n"
      ],
      "execution_count": null,
      "outputs": [
        {
          "output_type": "stream",
          "text": [
            "Model: \"sequential\"\n",
            "_________________________________________________________________\n",
            "Layer (type)                 Output Shape              Param #   \n",
            "=================================================================\n",
            "embedding (Embedding)        (None, 120, 16)           160000    \n",
            "_________________________________________________________________\n",
            "bidirectional (Bidirectional (None, 64)                9600      \n",
            "_________________________________________________________________\n",
            "dense (Dense)                (None, 6)                 390       \n",
            "_________________________________________________________________\n",
            "dense_1 (Dense)              (None, 1)                 7         \n",
            "=================================================================\n",
            "Total params: 169,997\n",
            "Trainable params: 169,997\n",
            "Non-trainable params: 0\n",
            "_________________________________________________________________\n"
          ],
          "name": "stdout"
        }
      ]
    },
    {
      "cell_type": "code",
      "metadata": {
        "id": "V5LLrXC-uNX6",
        "colab": {
          "base_uri": "https://localhost:8080/"
        },
        "outputId": "2a6f0afc-2fac-485a-91ad-9b87d0c91d7d"
      },
      "source": [
        "num_epochs = 50\n",
        "history = model.fit(padded, training_labels_final, epochs=num_epochs, validation_data=(testing_padded, testing_labels_final))"
      ],
      "execution_count": null,
      "outputs": [
        {
          "output_type": "stream",
          "text": [
            "Epoch 1/50\n",
            "782/782 [==============================] - 49s 19ms/step - loss: 0.6510 - accuracy: 0.5890 - val_loss: 0.3789 - val_accuracy: 0.8324\n",
            "Epoch 2/50\n",
            "782/782 [==============================] - 14s 18ms/step - loss: 0.3271 - accuracy: 0.8683 - val_loss: 0.3634 - val_accuracy: 0.8418\n",
            "Epoch 3/50\n",
            "782/782 [==============================] - 14s 18ms/step - loss: 0.2599 - accuracy: 0.9031 - val_loss: 0.3725 - val_accuracy: 0.8434\n",
            "Epoch 4/50\n",
            "782/782 [==============================] - 14s 18ms/step - loss: 0.2015 - accuracy: 0.9272 - val_loss: 0.4055 - val_accuracy: 0.8377\n",
            "Epoch 5/50\n",
            "782/782 [==============================] - 15s 19ms/step - loss: 0.1669 - accuracy: 0.9445 - val_loss: 0.4074 - val_accuracy: 0.8369\n",
            "Epoch 6/50\n",
            "782/782 [==============================] - 15s 19ms/step - loss: 0.1498 - accuracy: 0.9521 - val_loss: 0.5148 - val_accuracy: 0.8246\n",
            "Epoch 7/50\n",
            "782/782 [==============================] - 14s 18ms/step - loss: 0.1202 - accuracy: 0.9640 - val_loss: 0.4722 - val_accuracy: 0.8316\n",
            "Epoch 8/50\n",
            "782/782 [==============================] - 14s 18ms/step - loss: 0.1011 - accuracy: 0.9716 - val_loss: 0.5958 - val_accuracy: 0.8204\n",
            "Epoch 9/50\n",
            "782/782 [==============================] - 15s 19ms/step - loss: 0.0781 - accuracy: 0.9796 - val_loss: 0.6051 - val_accuracy: 0.8232\n",
            "Epoch 10/50\n",
            "782/782 [==============================] - 15s 19ms/step - loss: 0.0659 - accuracy: 0.9822 - val_loss: 0.6298 - val_accuracy: 0.8198\n",
            "Epoch 11/50\n",
            "782/782 [==============================] - 14s 18ms/step - loss: 0.0606 - accuracy: 0.9841 - val_loss: 0.6633 - val_accuracy: 0.8231\n",
            "Epoch 12/50\n",
            "782/782 [==============================] - 14s 18ms/step - loss: 0.0416 - accuracy: 0.9898 - val_loss: 0.7158 - val_accuracy: 0.8208\n",
            "Epoch 13/50\n",
            "782/782 [==============================] - 14s 18ms/step - loss: 0.0421 - accuracy: 0.9876 - val_loss: 0.7281 - val_accuracy: 0.8204\n",
            "Epoch 14/50\n",
            "782/782 [==============================] - 15s 19ms/step - loss: 0.0308 - accuracy: 0.9916 - val_loss: 0.8329 - val_accuracy: 0.8196\n",
            "Epoch 15/50\n",
            "782/782 [==============================] - 14s 18ms/step - loss: 0.0229 - accuracy: 0.9938 - val_loss: 0.8196 - val_accuracy: 0.8135\n",
            "Epoch 16/50\n",
            "782/782 [==============================] - 14s 18ms/step - loss: 0.0208 - accuracy: 0.9943 - val_loss: 0.9316 - val_accuracy: 0.8159\n",
            "Epoch 17/50\n",
            "782/782 [==============================] - 14s 18ms/step - loss: 0.0129 - accuracy: 0.9968 - val_loss: 0.9449 - val_accuracy: 0.8154\n",
            "Epoch 18/50\n",
            "782/782 [==============================] - 14s 18ms/step - loss: 0.0166 - accuracy: 0.9950 - val_loss: 1.1221 - val_accuracy: 0.8150\n",
            "Epoch 19/50\n",
            "782/782 [==============================] - 15s 19ms/step - loss: 0.0114 - accuracy: 0.9969 - val_loss: 1.0343 - val_accuracy: 0.8178\n",
            "Epoch 20/50\n",
            "782/782 [==============================] - 15s 19ms/step - loss: 0.0082 - accuracy: 0.9975 - val_loss: 1.1903 - val_accuracy: 0.8043\n",
            "Epoch 21/50\n",
            "782/782 [==============================] - 14s 19ms/step - loss: 0.0114 - accuracy: 0.9964 - val_loss: 1.1884 - val_accuracy: 0.8154\n",
            "Epoch 22/50\n",
            "782/782 [==============================] - 14s 18ms/step - loss: 0.0101 - accuracy: 0.9973 - val_loss: 1.1012 - val_accuracy: 0.8122\n",
            "Epoch 23/50\n",
            "782/782 [==============================] - 14s 18ms/step - loss: 0.0069 - accuracy: 0.9983 - val_loss: 1.2242 - val_accuracy: 0.8136\n",
            "Epoch 24/50\n",
            "782/782 [==============================] - 14s 18ms/step - loss: 0.0077 - accuracy: 0.9973 - val_loss: 1.3189 - val_accuracy: 0.8121\n",
            "Epoch 25/50\n",
            "782/782 [==============================] - 14s 18ms/step - loss: 0.0063 - accuracy: 0.9980 - val_loss: 1.2575 - val_accuracy: 0.8154\n",
            "Epoch 26/50\n",
            "782/782 [==============================] - 14s 18ms/step - loss: 0.0042 - accuracy: 0.9986 - val_loss: 1.4508 - val_accuracy: 0.8077\n",
            "Epoch 27/50\n",
            "782/782 [==============================] - 14s 18ms/step - loss: 0.0050 - accuracy: 0.9980 - val_loss: 1.5407 - val_accuracy: 0.8124\n",
            "Epoch 28/50\n",
            "782/782 [==============================] - 14s 18ms/step - loss: 0.0024 - accuracy: 0.9994 - val_loss: 1.4621 - val_accuracy: 0.8129\n",
            "Epoch 29/50\n",
            "782/782 [==============================] - 14s 18ms/step - loss: 0.0098 - accuracy: 0.9968 - val_loss: 1.2530 - val_accuracy: 0.8160\n",
            "Epoch 30/50\n",
            "782/782 [==============================] - 14s 18ms/step - loss: 0.0062 - accuracy: 0.9978 - val_loss: 1.3970 - val_accuracy: 0.8137\n",
            "Epoch 31/50\n",
            "782/782 [==============================] - 14s 18ms/step - loss: 0.0011 - accuracy: 0.9998 - val_loss: 1.4033 - val_accuracy: 0.8146\n",
            "Epoch 32/50\n",
            "782/782 [==============================] - 14s 18ms/step - loss: 0.0012 - accuracy: 0.9996 - val_loss: 1.4032 - val_accuracy: 0.8123\n",
            "Epoch 33/50\n",
            "782/782 [==============================] - 15s 19ms/step - loss: 0.0029 - accuracy: 0.9991 - val_loss: 1.5575 - val_accuracy: 0.8054\n",
            "Epoch 34/50\n",
            "782/782 [==============================] - 14s 18ms/step - loss: 0.0082 - accuracy: 0.9969 - val_loss: 1.4586 - val_accuracy: 0.8099\n",
            "Epoch 35/50\n",
            "782/782 [==============================] - 15s 19ms/step - loss: 0.0029 - accuracy: 0.9990 - val_loss: 1.4442 - val_accuracy: 0.8119\n",
            "Epoch 36/50\n",
            "782/782 [==============================] - 14s 18ms/step - loss: 0.0021 - accuracy: 0.9995 - val_loss: 1.4286 - val_accuracy: 0.8099\n",
            "Epoch 37/50\n",
            "782/782 [==============================] - 14s 18ms/step - loss: 0.0022 - accuracy: 0.9992 - val_loss: 1.4685 - val_accuracy: 0.8127\n",
            "Epoch 38/50\n",
            "782/782 [==============================] - 14s 18ms/step - loss: 0.0021 - accuracy: 0.9988 - val_loss: 1.5986 - val_accuracy: 0.8112\n",
            "Epoch 39/50\n",
            "782/782 [==============================] - 15s 19ms/step - loss: 0.0038 - accuracy: 0.9990 - val_loss: 1.4250 - val_accuracy: 0.8120\n",
            "Epoch 40/50\n",
            "782/782 [==============================] - 14s 18ms/step - loss: 0.0029 - accuracy: 0.9991 - val_loss: 1.5070 - val_accuracy: 0.8124\n",
            "Epoch 41/50\n",
            "782/782 [==============================] - 14s 18ms/step - loss: 0.0040 - accuracy: 0.9984 - val_loss: 1.3982 - val_accuracy: 0.8108\n",
            "Epoch 42/50\n",
            "782/782 [==============================] - 15s 19ms/step - loss: 0.0019 - accuracy: 0.9997 - val_loss: 1.4549 - val_accuracy: 0.8094\n",
            "Epoch 43/50\n",
            "782/782 [==============================] - 14s 18ms/step - loss: 1.1690e-04 - accuracy: 1.0000 - val_loss: 1.6657 - val_accuracy: 0.8110\n",
            "Epoch 44/50\n",
            "782/782 [==============================] - 15s 19ms/step - loss: 3.1510e-05 - accuracy: 1.0000 - val_loss: 1.7430 - val_accuracy: 0.8115\n",
            "Epoch 45/50\n",
            "782/782 [==============================] - 15s 19ms/step - loss: 1.9476e-05 - accuracy: 1.0000 - val_loss: 1.8217 - val_accuracy: 0.8107\n",
            "Epoch 46/50\n",
            "782/782 [==============================] - 15s 19ms/step - loss: 1.2144e-05 - accuracy: 1.0000 - val_loss: 1.8961 - val_accuracy: 0.8102\n",
            "Epoch 47/50\n",
            "782/782 [==============================] - 15s 19ms/step - loss: 8.1188e-06 - accuracy: 1.0000 - val_loss: 1.9708 - val_accuracy: 0.8096\n",
            "Epoch 48/50\n",
            "782/782 [==============================] - 14s 18ms/step - loss: 5.2340e-06 - accuracy: 1.0000 - val_loss: 2.0443 - val_accuracy: 0.8098\n",
            "Epoch 49/50\n",
            "782/782 [==============================] - 14s 18ms/step - loss: 3.3664e-06 - accuracy: 1.0000 - val_loss: 2.1186 - val_accuracy: 0.8094\n",
            "Epoch 50/50\n",
            "782/782 [==============================] - 14s 18ms/step - loss: 2.2399e-06 - accuracy: 1.0000 - val_loss: 2.1933 - val_accuracy: 0.8093\n"
          ],
          "name": "stdout"
        }
      ]
    },
    {
      "cell_type": "code",
      "metadata": {
        "id": "nHGYuU4jPYaj",
        "colab": {
          "base_uri": "https://localhost:8080/",
          "height": 541
        },
        "outputId": "953614ff-5fca-4547-be06-f44479144064"
      },
      "source": [
        "import matplotlib.pyplot as plt\n",
        "\n",
        "def plot_graphs(history, string):\n",
        "  plt.plot(history.history[string])\n",
        "  plt.plot(history.history['val_'+string])\n",
        "  plt.xlabel(\"Epochs\")\n",
        "  plt.ylabel(string)\n",
        "  plt.legend([string, 'val_'+string])\n",
        "  plt.show()\n",
        "\n",
        "plot_graphs(history, 'accuracy')\n",
        "plot_graphs(history, 'loss')"
      ],
      "execution_count": null,
      "outputs": [
        {
          "output_type": "display_data",
          "data": {
            "image/png": "[encoded data removed]",
            "text/plain": [
              "<Figure size 432x288 with 1 Axes>"
            ]
          },
          "metadata": {
            "tags": [],
            "needs_background": "light"
          }
        },
        {
          "output_type": "display_data",
          "data": {
            "image/png": "[encoded data removed]",
            "text/plain": [
              "<Figure size 432x288 with 1 Axes>"
            ]
          },
          "metadata": {
            "tags": [],
            "needs_background": "light"
          }
        }
      ]
    },
    {
      "cell_type": "code",
      "metadata": {
        "id": "wSualgGPPK0S",
        "colab": {
          "base_uri": "https://localhost:8080/"
        },
        "outputId": "f8565868-ea86-49d2-81bc-2feee39156ac"
      },
      "source": [
        "# Model Definition with LSTM\n",
        "model_lstm = tf.keras.Sequential([\n",
        "    tf.keras.layers.Embedding(vocab_size, embedding_dim, input_length=max_length),\n",
        "    tf.keras.layers.Bidirectional(tf.keras.layers.LSTM(32)),\n",
        "    tf.keras.layers.Dense(6, activation='relu'),\n",
        "    tf.keras.layers.Dense(1, activation='sigmoid')\n",
        "])\n",
        "model_lstm.compile(loss='binary_crossentropy',optimizer='adam',metrics=['accuracy'])\n",
        "model_lstm.summary()\n"
      ],
      "execution_count": null,
      "outputs": [
        {
          "output_type": "stream",
          "text": [
            "Model: \"sequential_1\"\n",
            "_________________________________________________________________\n",
            "Layer (type)                 Output Shape              Param #   \n",
            "=================================================================\n",
            "embedding_1 (Embedding)      (None, 120, 16)           160000    \n",
            "_________________________________________________________________\n",
            "bidirectional_1 (Bidirection (None, 64)                12544     \n",
            "_________________________________________________________________\n",
            "dense_2 (Dense)              (None, 6)                 390       \n",
            "_________________________________________________________________\n",
            "dense_3 (Dense)              (None, 1)                 7         \n",
            "=================================================================\n",
            "Total params: 172,941\n",
            "Trainable params: 172,941\n",
            "Non-trainable params: 0\n",
            "_________________________________________________________________\n"
          ],
          "name": "stdout"
        }
      ]
    },
    {
      "cell_type": "code",
      "metadata": {
        "colab": {
          "base_uri": "https://localhost:8080/"
        },
        "id": "SSIRs9vPEG82",
        "outputId": "de567882-186c-47f7-f1f7-f15b064c22b8"
      },
      "source": [
        "history_lstm = model_lstm.fit(padded, training_labels_final, epochs=num_epochs, validation_data=(testing_padded, testing_labels_final))"
      ],
      "execution_count": null,
      "outputs": [
        {
          "output_type": "stream",
          "text": [
            "Epoch 1/50\n",
            "782/782 [==============================] - 18s 20ms/step - loss: 0.6046 - accuracy: 0.6355 - val_loss: 0.4133 - val_accuracy: 0.8219\n",
            "Epoch 2/50\n",
            "782/782 [==============================] - 15s 19ms/step - loss: 0.3169 - accuracy: 0.8717 - val_loss: 0.3515 - val_accuracy: 0.8457\n",
            "Epoch 3/50\n",
            "782/782 [==============================] - 14s 18ms/step - loss: 0.2288 - accuracy: 0.9119 - val_loss: 0.3711 - val_accuracy: 0.8384\n",
            "Epoch 4/50\n",
            "782/782 [==============================] - 15s 19ms/step - loss: 0.1916 - accuracy: 0.9328 - val_loss: 0.3930 - val_accuracy: 0.8381\n",
            "Epoch 5/50\n",
            "782/782 [==============================] - 15s 19ms/step - loss: 0.1469 - accuracy: 0.9510 - val_loss: 0.4468 - val_accuracy: 0.8336\n",
            "Epoch 6/50\n",
            "782/782 [==============================] - 14s 18ms/step - loss: 0.1083 - accuracy: 0.9658 - val_loss: 0.5465 - val_accuracy: 0.8170\n",
            "Epoch 7/50\n",
            "782/782 [==============================] - 14s 19ms/step - loss: 0.0861 - accuracy: 0.9712 - val_loss: 0.5909 - val_accuracy: 0.8198\n",
            "Epoch 8/50\n",
            "782/782 [==============================] - 15s 19ms/step - loss: 0.0521 - accuracy: 0.9834 - val_loss: 0.6531 - val_accuracy: 0.8158\n",
            "Epoch 9/50\n",
            "782/782 [==============================] - 15s 19ms/step - loss: 0.0432 - accuracy: 0.9859 - val_loss: 0.7184 - val_accuracy: 0.8208\n",
            "Epoch 10/50\n",
            "782/782 [==============================] - 15s 19ms/step - loss: 0.0292 - accuracy: 0.9916 - val_loss: 0.7529 - val_accuracy: 0.8166\n",
            "Epoch 11/50\n",
            "782/782 [==============================] - 15s 19ms/step - loss: 0.0277 - accuracy: 0.9915 - val_loss: 0.7899 - val_accuracy: 0.8084\n",
            "Epoch 12/50\n",
            "782/782 [==============================] - 15s 19ms/step - loss: 0.0248 - accuracy: 0.9923 - val_loss: 0.8063 - val_accuracy: 0.8164\n",
            "Epoch 13/50\n",
            "782/782 [==============================] - 15s 19ms/step - loss: 0.0191 - accuracy: 0.9936 - val_loss: 0.9059 - val_accuracy: 0.8163\n",
            "Epoch 14/50\n",
            "782/782 [==============================] - 15s 19ms/step - loss: 0.0132 - accuracy: 0.9958 - val_loss: 1.0111 - val_accuracy: 0.8118\n",
            "Epoch 15/50\n",
            "782/782 [==============================] - 16s 20ms/step - loss: 0.0094 - accuracy: 0.9969 - val_loss: 1.0251 - val_accuracy: 0.8042\n",
            "Epoch 16/50\n",
            "782/782 [==============================] - 14s 18ms/step - loss: 0.0189 - accuracy: 0.9939 - val_loss: 1.0757 - val_accuracy: 0.8160\n",
            "Epoch 17/50\n",
            "782/782 [==============================] - 15s 19ms/step - loss: 0.0104 - accuracy: 0.9962 - val_loss: 0.9561 - val_accuracy: 0.8136\n",
            "Epoch 18/50\n",
            "782/782 [==============================] - 15s 19ms/step - loss: 0.0100 - accuracy: 0.9969 - val_loss: 1.0890 - val_accuracy: 0.8152\n",
            "Epoch 19/50\n",
            "782/782 [==============================] - 14s 18ms/step - loss: 0.0108 - accuracy: 0.9963 - val_loss: 1.0863 - val_accuracy: 0.8116\n",
            "Epoch 20/50\n",
            "782/782 [==============================] - 14s 18ms/step - loss: 0.0113 - accuracy: 0.9967 - val_loss: 1.0710 - val_accuracy: 0.8124\n",
            "Epoch 21/50\n",
            "782/782 [==============================] - 15s 19ms/step - loss: 0.0061 - accuracy: 0.9984 - val_loss: 1.1237 - val_accuracy: 0.7958\n",
            "Epoch 22/50\n",
            "782/782 [==============================] - 14s 18ms/step - loss: 0.0078 - accuracy: 0.9975 - val_loss: 1.0211 - val_accuracy: 0.8034\n",
            "Epoch 23/50\n",
            "782/782 [==============================] - 16s 20ms/step - loss: 0.0091 - accuracy: 0.9972 - val_loss: 1.2486 - val_accuracy: 0.8118\n",
            "Epoch 24/50\n",
            "782/782 [==============================] - 15s 19ms/step - loss: 0.0041 - accuracy: 0.9988 - val_loss: 1.2085 - val_accuracy: 0.8112\n",
            "Epoch 25/50\n",
            "782/782 [==============================] - 15s 19ms/step - loss: 0.0064 - accuracy: 0.9979 - val_loss: 1.1891 - val_accuracy: 0.8125\n",
            "Epoch 26/50\n",
            "782/782 [==============================] - 15s 19ms/step - loss: 0.0075 - accuracy: 0.9977 - val_loss: 1.2640 - val_accuracy: 0.8056\n",
            "Epoch 27/50\n",
            "782/782 [==============================] - 14s 18ms/step - loss: 0.0062 - accuracy: 0.9979 - val_loss: 1.1452 - val_accuracy: 0.8081\n",
            "Epoch 28/50\n",
            "782/782 [==============================] - 14s 18ms/step - loss: 0.0048 - accuracy: 0.9986 - val_loss: 1.1600 - val_accuracy: 0.8025\n",
            "Epoch 29/50\n",
            "782/782 [==============================] - 14s 18ms/step - loss: 0.0042 - accuracy: 0.9986 - val_loss: 1.2501 - val_accuracy: 0.8114\n",
            "Epoch 30/50\n",
            "782/782 [==============================] - 15s 19ms/step - loss: 0.0055 - accuracy: 0.9982 - val_loss: 1.3644 - val_accuracy: 0.8064\n",
            "Epoch 31/50\n",
            "782/782 [==============================] - 14s 18ms/step - loss: 0.0041 - accuracy: 0.9988 - val_loss: 1.2619 - val_accuracy: 0.8150\n",
            "Epoch 32/50\n",
            "782/782 [==============================] - 15s 19ms/step - loss: 0.0044 - accuracy: 0.9987 - val_loss: 1.3322 - val_accuracy: 0.7952\n",
            "Epoch 33/50\n",
            "782/782 [==============================] - 14s 18ms/step - loss: 0.0059 - accuracy: 0.9978 - val_loss: 1.3698 - val_accuracy: 0.8082\n",
            "Epoch 34/50\n",
            "782/782 [==============================] - 15s 19ms/step - loss: 0.0053 - accuracy: 0.9983 - val_loss: 1.2709 - val_accuracy: 0.7964\n",
            "Epoch 35/50\n",
            "782/782 [==============================] - 15s 19ms/step - loss: 0.0077 - accuracy: 0.9976 - val_loss: 1.3376 - val_accuracy: 0.8090\n",
            "Epoch 36/50\n",
            "782/782 [==============================] - 15s 19ms/step - loss: 0.0017 - accuracy: 0.9995 - val_loss: 1.3850 - val_accuracy: 0.8141\n",
            "Epoch 37/50\n",
            "782/782 [==============================] - 15s 19ms/step - loss: 3.8491e-04 - accuracy: 1.0000 - val_loss: 1.4201 - val_accuracy: 0.8094\n",
            "Epoch 38/50\n",
            "782/782 [==============================] - 16s 20ms/step - loss: 8.0510e-05 - accuracy: 1.0000 - val_loss: 1.5277 - val_accuracy: 0.8086\n",
            "Epoch 39/50\n",
            "782/782 [==============================] - 15s 19ms/step - loss: 3.1029e-05 - accuracy: 1.0000 - val_loss: 1.6006 - val_accuracy: 0.8101\n",
            "Epoch 40/50\n",
            "782/782 [==============================] - 15s 19ms/step - loss: 2.0468e-05 - accuracy: 1.0000 - val_loss: 1.6648 - val_accuracy: 0.8106\n",
            "Epoch 41/50\n",
            "782/782 [==============================] - 15s 20ms/step - loss: 1.2832e-05 - accuracy: 1.0000 - val_loss: 1.7327 - val_accuracy: 0.8111\n",
            "Epoch 42/50\n",
            "782/782 [==============================] - 15s 19ms/step - loss: 8.3737e-06 - accuracy: 1.0000 - val_loss: 1.7962 - val_accuracy: 0.8120\n",
            "Epoch 43/50\n",
            "782/782 [==============================] - 15s 19ms/step - loss: 6.3333e-06 - accuracy: 1.0000 - val_loss: 1.8624 - val_accuracy: 0.8109\n",
            "Epoch 44/50\n",
            "782/782 [==============================] - 15s 19ms/step - loss: 3.7716e-06 - accuracy: 1.0000 - val_loss: 1.9296 - val_accuracy: 0.8112\n",
            "Epoch 45/50\n",
            "782/782 [==============================] - 15s 19ms/step - loss: 2.4887e-06 - accuracy: 1.0000 - val_loss: 1.9957 - val_accuracy: 0.8111\n",
            "Epoch 46/50\n",
            "782/782 [==============================] - 15s 19ms/step - loss: 1.8227e-06 - accuracy: 1.0000 - val_loss: 2.0665 - val_accuracy: 0.8110\n",
            "Epoch 47/50\n",
            "782/782 [==============================] - 15s 19ms/step - loss: 1.0704e-06 - accuracy: 1.0000 - val_loss: 2.1391 - val_accuracy: 0.8115\n",
            "Epoch 48/50\n",
            "782/782 [==============================] - 15s 19ms/step - loss: 6.7615e-07 - accuracy: 1.0000 - val_loss: 2.2139 - val_accuracy: 0.8115\n",
            "Epoch 49/50\n",
            "782/782 [==============================] - 15s 19ms/step - loss: 4.5611e-07 - accuracy: 1.0000 - val_loss: 2.2852 - val_accuracy: 0.8118\n",
            "Epoch 50/50\n",
            "782/782 [==============================] - 15s 19ms/step - loss: 3.0111e-07 - accuracy: 1.0000 - val_loss: 2.3586 - val_accuracy: 0.8114\n"
          ],
          "name": "stdout"
        }
      ]
    },
    {
      "cell_type": "code",
      "metadata": {
        "colab": {
          "base_uri": "https://localhost:8080/",
          "height": 541
        },
        "id": "w8eVlwa5KY1p",
        "outputId": "0a21a2dc-6b85-4313-8496-b4fef13db7f5"
      },
      "source": [
        "plot_graphs(history_lstm, 'accuracy')\n",
        "plot_graphs(history_lstm, 'loss')"
      ],
      "execution_count": null,
      "outputs": [
        {
          "output_type": "display_data",
          "data": {
            "image/png": "[encoded data removed]",
            "text/plain": [
              "<Figure size 432x288 with 1 Axes>"
            ]
          },
          "metadata": {
            "tags": [],
            "needs_background": "light"
          }
        },
        {
          "output_type": "display_data",
          "data": {
            "image/png": "[encoded data removed]",
            "text/plain": [
              "<Figure size 432x288 with 1 Axes>"
            ]
          },
          "metadata": {
            "tags": [],
            "needs_background": "light"
          }
        }
      ]
    },
    {
      "cell_type": "code",
      "metadata": {
        "id": "K_Jc7cY3Qxke",
        "colab": {
          "base_uri": "https://localhost:8080/"
        },
        "outputId": "6fa1c550-3484-429f-ec0c-c76b46796827"
      },
      "source": [
        "# Model Definition with Conv1D\n",
        "model_conv = tf.keras.Sequential([\n",
        "    tf.keras.layers.Embedding(vocab_size, embedding_dim, input_length=max_length),\n",
        "    tf.keras.layers.Conv1D(128, 5, activation='relu'),\n",
        "    tf.keras.layers.GlobalAveragePooling1D(),\n",
        "    tf.keras.layers.Dense(6, activation='relu'),\n",
        "    tf.keras.layers.Dense(1, activation='sigmoid')\n",
        "])\n",
        "model_conv.compile(loss='binary_crossentropy',optimizer='adam',metrics=['accuracy'])\n",
        "model_conv.summary()\n"
      ],
      "execution_count": null,
      "outputs": [
        {
          "output_type": "stream",
          "text": [
            "Model: \"sequential_2\"\n",
            "_________________________________________________________________\n",
            "Layer (type)                 Output Shape              Param #   \n",
            "=================================================================\n",
            "embedding_2 (Embedding)      (None, 120, 16)           160000    \n",
            "_________________________________________________________________\n",
            "conv1d (Conv1D)              (None, 116, 128)          10368     \n",
            "_________________________________________________________________\n",
            "global_average_pooling1d (Gl (None, 128)               0         \n",
            "_________________________________________________________________\n",
            "dense_4 (Dense)              (None, 6)                 774       \n",
            "_________________________________________________________________\n",
            "dense_5 (Dense)              (None, 1)                 7         \n",
            "=================================================================\n",
            "Total params: 171,149\n",
            "Trainable params: 171,149\n",
            "Non-trainable params: 0\n",
            "_________________________________________________________________\n"
          ],
          "name": "stdout"
        }
      ]
    },
    {
      "cell_type": "code",
      "metadata": {
        "colab": {
          "base_uri": "https://localhost:8080/"
        },
        "id": "EDCe2AfvEHul",
        "outputId": "c271b798-234c-485a-a356-e3e286d139e5"
      },
      "source": [
        "history_conv = model_conv.fit(padded, training_labels_final, epochs=num_epochs, validation_data=(testing_padded, testing_labels_final))"
      ],
      "execution_count": null,
      "outputs": [
        {
          "output_type": "stream",
          "text": [
            "Epoch 1/50\n",
            "782/782 [==============================] - 7s 8ms/step - loss: 0.6003 - accuracy: 0.6733 - val_loss: 0.4360 - val_accuracy: 0.8428\n",
            "Epoch 2/50\n",
            "782/782 [==============================] - 6s 8ms/step - loss: 0.3702 - accuracy: 0.8841 - val_loss: 0.3994 - val_accuracy: 0.8420\n",
            "Epoch 3/50\n",
            "782/782 [==============================] - 6s 8ms/step - loss: 0.2876 - accuracy: 0.9109 - val_loss: 0.4191 - val_accuracy: 0.8350\n",
            "Epoch 4/50\n",
            "782/782 [==============================] - 6s 8ms/step - loss: 0.2247 - accuracy: 0.9340 - val_loss: 0.4495 - val_accuracy: 0.8300\n",
            "Epoch 5/50\n",
            "782/782 [==============================] - 6s 8ms/step - loss: 0.1920 - accuracy: 0.9456 - val_loss: 0.5432 - val_accuracy: 0.8276\n",
            "Epoch 6/50\n",
            "782/782 [==============================] - 6s 7ms/step - loss: 0.1570 - accuracy: 0.9564 - val_loss: 0.6240 - val_accuracy: 0.8224\n",
            "Epoch 7/50\n",
            "782/782 [==============================] - 6s 7ms/step - loss: 0.1443 - accuracy: 0.9611 - val_loss: 0.6639 - val_accuracy: 0.8191\n",
            "Epoch 8/50\n",
            "782/782 [==============================] - 6s 8ms/step - loss: 0.1243 - accuracy: 0.9680 - val_loss: 0.8198 - val_accuracy: 0.8194\n",
            "Epoch 9/50\n",
            "782/782 [==============================] - 6s 8ms/step - loss: 0.1275 - accuracy: 0.9654 - val_loss: 0.8952 - val_accuracy: 0.8198\n",
            "Epoch 10/50\n",
            "782/782 [==============================] - 6s 8ms/step - loss: 0.1189 - accuracy: 0.9685 - val_loss: 0.9005 - val_accuracy: 0.8185\n",
            "Epoch 11/50\n",
            "782/782 [==============================] - 6s 8ms/step - loss: 0.1157 - accuracy: 0.9699 - val_loss: 0.9351 - val_accuracy: 0.8179\n",
            "Epoch 12/50\n",
            "782/782 [==============================] - 6s 8ms/step - loss: 0.1175 - accuracy: 0.9689 - val_loss: 1.0433 - val_accuracy: 0.8192\n",
            "Epoch 13/50\n",
            "782/782 [==============================] - 6s 7ms/step - loss: 0.1186 - accuracy: 0.9682 - val_loss: 1.0043 - val_accuracy: 0.8151\n",
            "Epoch 14/50\n",
            "782/782 [==============================] - 6s 7ms/step - loss: 0.1124 - accuracy: 0.9705 - val_loss: 1.0715 - val_accuracy: 0.8164\n",
            "Epoch 15/50\n",
            "782/782 [==============================] - 6s 7ms/step - loss: 0.1120 - accuracy: 0.9708 - val_loss: 1.0794 - val_accuracy: 0.8170\n",
            "Epoch 16/50\n",
            "782/782 [==============================] - 6s 8ms/step - loss: 0.1131 - accuracy: 0.9702 - val_loss: 1.2611 - val_accuracy: 0.8181\n",
            "Epoch 17/50\n",
            "782/782 [==============================] - 6s 8ms/step - loss: 0.1089 - accuracy: 0.9723 - val_loss: 1.2593 - val_accuracy: 0.8176\n",
            "Epoch 18/50\n",
            "782/782 [==============================] - 6s 8ms/step - loss: 0.1139 - accuracy: 0.9705 - val_loss: 1.3694 - val_accuracy: 0.8156\n",
            "Epoch 19/50\n",
            "782/782 [==============================] - 6s 8ms/step - loss: 0.1110 - accuracy: 0.9709 - val_loss: 1.2865 - val_accuracy: 0.8166\n",
            "Epoch 20/50\n",
            "782/782 [==============================] - 6s 8ms/step - loss: 0.1093 - accuracy: 0.9721 - val_loss: 1.2001 - val_accuracy: 0.8144\n",
            "Epoch 21/50\n",
            "782/782 [==============================] - 6s 8ms/step - loss: 0.1132 - accuracy: 0.9705 - val_loss: 1.2592 - val_accuracy: 0.8155\n",
            "Epoch 22/50\n",
            "782/782 [==============================] - 6s 8ms/step - loss: 0.1078 - accuracy: 0.9725 - val_loss: 1.1321 - val_accuracy: 0.8122\n",
            "Epoch 23/50\n",
            "782/782 [==============================] - 6s 8ms/step - loss: 0.1106 - accuracy: 0.9716 - val_loss: 1.4496 - val_accuracy: 0.8158\n",
            "Epoch 24/50\n",
            "782/782 [==============================] - 6s 8ms/step - loss: 0.1098 - accuracy: 0.9719 - val_loss: 1.3537 - val_accuracy: 0.8133\n",
            "Epoch 25/50\n",
            "782/782 [==============================] - 6s 8ms/step - loss: 0.1122 - accuracy: 0.9710 - val_loss: 1.2829 - val_accuracy: 0.8130\n",
            "Epoch 26/50\n",
            "782/782 [==============================] - 6s 8ms/step - loss: 0.1107 - accuracy: 0.9708 - val_loss: 1.2872 - val_accuracy: 0.8126\n",
            "Epoch 27/50\n",
            "782/782 [==============================] - 6s 8ms/step - loss: 0.1038 - accuracy: 0.9735 - val_loss: 1.4587 - val_accuracy: 0.8140\n",
            "Epoch 28/50\n",
            "782/782 [==============================] - 6s 8ms/step - loss: 0.1016 - accuracy: 0.9741 - val_loss: 1.4074 - val_accuracy: 0.8118\n",
            "Epoch 29/50\n",
            "782/782 [==============================] - 6s 8ms/step - loss: 0.1075 - accuracy: 0.9726 - val_loss: 1.4145 - val_accuracy: 0.8140\n",
            "Epoch 30/50\n",
            "782/782 [==============================] - 6s 8ms/step - loss: 0.0996 - accuracy: 0.9750 - val_loss: 1.5105 - val_accuracy: 0.8125\n",
            "Epoch 31/50\n",
            "782/782 [==============================] - 6s 8ms/step - loss: 0.0983 - accuracy: 0.9755 - val_loss: 1.2485 - val_accuracy: 0.8091\n",
            "Epoch 32/50\n",
            "782/782 [==============================] - 6s 8ms/step - loss: 0.1003 - accuracy: 0.9746 - val_loss: 1.4752 - val_accuracy: 0.8124\n",
            "Epoch 33/50\n",
            "782/782 [==============================] - 6s 8ms/step - loss: 0.1052 - accuracy: 0.9733 - val_loss: 1.7560 - val_accuracy: 0.8144\n",
            "Epoch 34/50\n",
            "782/782 [==============================] - 6s 8ms/step - loss: 0.1087 - accuracy: 0.9722 - val_loss: 1.5491 - val_accuracy: 0.8136\n",
            "Epoch 35/50\n",
            "782/782 [==============================] - 6s 8ms/step - loss: 0.1013 - accuracy: 0.9744 - val_loss: 1.5362 - val_accuracy: 0.8136\n",
            "Epoch 36/50\n",
            "782/782 [==============================] - 6s 8ms/step - loss: 0.1011 - accuracy: 0.9749 - val_loss: 1.5035 - val_accuracy: 0.8132\n",
            "Epoch 37/50\n",
            "782/782 [==============================] - 6s 7ms/step - loss: 0.1061 - accuracy: 0.9731 - val_loss: 1.3166 - val_accuracy: 0.8101\n",
            "Epoch 38/50\n",
            "782/782 [==============================] - 6s 7ms/step - loss: 0.1015 - accuracy: 0.9744 - val_loss: 1.6703 - val_accuracy: 0.8132\n",
            "Epoch 39/50\n",
            "782/782 [==============================] - 6s 8ms/step - loss: 0.1039 - accuracy: 0.9738 - val_loss: 1.5995 - val_accuracy: 0.8122\n",
            "Epoch 40/50\n",
            "782/782 [==============================] - 6s 7ms/step - loss: 0.1026 - accuracy: 0.9744 - val_loss: 1.6507 - val_accuracy: 0.8127\n",
            "Epoch 41/50\n",
            "782/782 [==============================] - 6s 8ms/step - loss: 0.1076 - accuracy: 0.9725 - val_loss: 1.5781 - val_accuracy: 0.8116\n",
            "Epoch 42/50\n",
            "782/782 [==============================] - 6s 8ms/step - loss: 0.0988 - accuracy: 0.9757 - val_loss: 1.2900 - val_accuracy: 0.8097\n",
            "Epoch 43/50\n",
            "782/782 [==============================] - 6s 8ms/step - loss: 0.1036 - accuracy: 0.9736 - val_loss: 1.4402 - val_accuracy: 0.8124\n",
            "Epoch 44/50\n",
            "782/782 [==============================] - 6s 8ms/step - loss: 0.1041 - accuracy: 0.9737 - val_loss: 1.4000 - val_accuracy: 0.8098\n",
            "Epoch 45/50\n",
            "782/782 [==============================] - 6s 8ms/step - loss: 0.1002 - accuracy: 0.9750 - val_loss: 1.6275 - val_accuracy: 0.8111\n",
            "Epoch 46/50\n",
            "782/782 [==============================] - 6s 8ms/step - loss: 0.0986 - accuracy: 0.9756 - val_loss: 1.5240 - val_accuracy: 0.8112\n",
            "Epoch 47/50\n",
            "782/782 [==============================] - 6s 8ms/step - loss: 0.0987 - accuracy: 0.9754 - val_loss: 1.6442 - val_accuracy: 0.8102\n",
            "Epoch 48/50\n",
            "782/782 [==============================] - 6s 8ms/step - loss: 0.1071 - accuracy: 0.9725 - val_loss: 1.2512 - val_accuracy: 0.8053\n",
            "Epoch 49/50\n",
            "782/782 [==============================] - 6s 8ms/step - loss: 0.1030 - accuracy: 0.9743 - val_loss: 1.7526 - val_accuracy: 0.8125\n",
            "Epoch 50/50\n",
            "782/782 [==============================] - 6s 8ms/step - loss: 0.0985 - accuracy: 0.9756 - val_loss: 1.5228 - val_accuracy: 0.8111\n"
          ],
          "name": "stdout"
        }
      ]
    },
    {
      "cell_type": "code",
      "metadata": {
        "colab": {
          "base_uri": "https://localhost:8080/",
          "height": 541
        },
        "id": "54uEALBoKff0",
        "outputId": "1c5279a6-9310-4364-a16e-6be82ba1a2df"
      },
      "source": [
        "plot_graphs(history_conv, 'accuracy')\n",
        "plot_graphs(history_conv, 'loss')"
      ],
      "execution_count": null,
      "outputs": [
        {
          "output_type": "display_data",
          "data": {
            "image/png": "[encoded data removed]",
            "text/plain": [
              "<Figure size 432x288 with 1 Axes>"
            ]
          },
          "metadata": {
            "tags": [],
            "needs_background": "light"
          }
        },
        {
          "output_type": "display_data",
          "data": {
            "image/png": "[encoded data removed]",
            "text/plain": [
              "<Figure size 432x288 with 1 Axes>"
            ]
          },
          "metadata": {
            "tags": [],
            "needs_background": "light"
          }
        }
      ]
    }
  ]
}